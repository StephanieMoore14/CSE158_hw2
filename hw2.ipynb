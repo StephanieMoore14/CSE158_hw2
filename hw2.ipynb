{
 "cells": [
  {
   "cell_type": "code",
   "execution_count": 194,
   "metadata": {},
   "outputs": [],
   "source": [
    "import gzip\n",
    "from collections import defaultdict\n",
    "import scipy\n",
    "import scipy.optimize\n",
    "import numpy\n",
    "import random\n",
    "import numpy as np \n",
    "import pandas as pd\n",
    "import numpy\n",
    "import urllib\n",
    "import random\n",
    "import ast\n",
    "\n",
    "# import warnings filter\n",
    "import warnings\n",
    "from warnings import simplefilter\n",
    "# ignore all future warnings"
   ]
  },
  {
   "cell_type": "markdown",
   "metadata": {},
   "source": [
    "### Instructions\n",
    "\n",
    "You will need the following files:\n",
    "\n",
    "* Polish Bankruptcy data : https://archive.ics.uci.edu/ml/datasets/Polish+companies+bankruptcy+\n",
    "data\n",
    "\n",
    "* Code examples : http://jmcauley.ucsd.edu/code/week2.py (classification) and http://jmcauley.ucsd.\n",
    "edu/code/week3.py (clustering/communities)\n"
   ]
  },
  {
   "cell_type": "markdown",
   "metadata": {},
   "source": [
    "## Tasks — Diagnostics (week 2):\n",
    "In the first homework, we had two issues with the classifiers we built. Namely (1) the data were not shuffled, and (2) the labels were highly imbalanced. Both of these made it difficult to effectively build an accurate classifier. Here we’ll try and correct for those issues using the Bankruptcy dataset."
   ]
  },
  {
   "cell_type": "markdown",
   "metadata": {},
   "source": [
    "**1. Download and parse the bankruptcy data. We’ll use the 5year.arff file. Code to read the data is\n",
    "available in the stub.**"
   ]
  },
  {
   "cell_type": "code",
   "execution_count": 445,
   "metadata": {},
   "outputs": [],
   "source": [
    "f = open(\"data/5year.arff\", 'r')"
   ]
  },
  {
   "cell_type": "code",
   "execution_count": 446,
   "metadata": {},
   "outputs": [],
   "source": [
    "while not '@data' in f.readline(): # filter past odd lines\n",
    "    pass"
   ]
  },
  {
   "cell_type": "code",
   "execution_count": 447,
   "metadata": {},
   "outputs": [],
   "source": [
    "def download_bank(file): \n",
    "    dataset = []\n",
    "    for l in file:\n",
    "        if '?' in l: # Missing entry\n",
    "            continue\n",
    "        l = l.split(',')\n",
    "        values = [1] + [float(x) for x in l]\n",
    "        values[-1] = values[-1] > 0 # Convert to bool\n",
    "        dataset.append(values)\n",
    "    return dataset"
   ]
  },
  {
   "cell_type": "markdown",
   "metadata": {},
   "source": [
    "**Train a logistic regressor (e.g. sklearn.linear model.LogisticRegression) with\n",
    "regularization coefficient C = 1.0. Report the accuracy and Balanced Error Rate (BER) of your classifier (1 mark).**"
   ]
  },
  {
   "cell_type": "code",
   "execution_count": 448,
   "metadata": {},
   "outputs": [],
   "source": [
    "dataset = download_bank(f)"
   ]
  },
  {
   "cell_type": "code",
   "execution_count": 449,
   "metadata": {},
   "outputs": [],
   "source": [
    "X = [values[:-1] for values in dataset]\n",
    "y = [values[-1] for values in dataset]"
   ]
  },
  {
   "cell_type": "code",
   "execution_count": 450,
   "metadata": {},
   "outputs": [
    {
     "name": "stderr",
     "output_type": "stream",
     "text": [
      "c:\\users\\steph\\appdata\\local\\programs\\python\\python37\\lib\\site-packages\\sklearn\\svm\\base.py:929: ConvergenceWarning: Liblinear failed to converge, increase the number of iterations.\n",
      "  \"the number of iterations.\", ConvergenceWarning)\n"
     ]
    },
    {
     "data": {
      "text/plain": [
       "LogisticRegression(C=1.0, class_weight=None, dual=False, fit_intercept=True,\n",
       "                   intercept_scaling=1, l1_ratio=None, max_iter=100,\n",
       "                   multi_class='warn', n_jobs=None, penalty='l2',\n",
       "                   random_state=None, solver='warn', tol=0.0001, verbose=0,\n",
       "                   warm_start=False)"
      ]
     },
     "execution_count": 450,
     "metadata": {},
     "output_type": "execute_result"
    }
   ],
   "source": [
    "from sklearn import linear_model\n",
    "\n",
    "model = linear_model.LogisticRegression()\n",
    "model.fit(X, y)"
   ]
  },
  {
   "cell_type": "code",
   "execution_count": 451,
   "metadata": {},
   "outputs": [],
   "source": [
    "def calc_BER(predictions, y_true):\n",
    "    TP = sum([(p and l) for (p,l) in zip(predictions, y_true)])\n",
    "    FP = sum([(p and not l) for (p,l) in zip(predictions, y_true)])\n",
    "    TN = sum([(not p and not l) for (p,l) in zip(predictions, y_true)])\n",
    "    FN = sum([(not p and l) for (p,l) in zip(predictions, y_true)])\n",
    "    \n",
    "    TPR = TP / (TP + FN)\n",
    "    TNR = TN / (TN + FP)\n",
    "    BER = 1 - 1/2 * (TPR + TNR)\n",
    "    return BER"
   ]
  },
  {
   "cell_type": "code",
   "execution_count": 452,
   "metadata": {},
   "outputs": [],
   "source": [
    "def calc_accuracy_BER(mod, X, labels, test=''):\n",
    "    pred = mod.predict(X)\n",
    "    correctPred = [1 if pred[i]  == labels[i] else 0 for i in range(len(pred))]\n",
    "    accur = sum(correctPred) / len(correctPred)\n",
    "    ber = calc_BER(pred, labels)\n",
    "    return [accur, ber]"
   ]
  },
  {
   "cell_type": "code",
   "execution_count": 453,
   "metadata": {},
   "outputs": [],
   "source": [
    "def format_results(ls, test):\n",
    "    accur = ls[0]\n",
    "    ber = ls[1]\n",
    "    print(\"{} Accuracy = \".format(test) + str(accur))\n",
    "    print(\"{} Balanced Error Rate = \".format(test) + str(ber))"
   ]
  },
  {
   "cell_type": "code",
   "execution_count": 454,
   "metadata": {},
   "outputs": [
    {
     "name": "stdout",
     "output_type": "stream",
     "text": [
      " Accuracy = 0.9660178159023425\n",
      " Balanced Error Rate = 0.4859769445504388\n"
     ]
    }
   ],
   "source": [
    "format_results(calc_accuracy_BER(model, X, y), '')"
   ]
  },
  {
   "cell_type": "markdown",
   "metadata": {},
   "source": [
    "**2. (CSE158 only) Retrain the above model using the class weight=’balanced’ option. Report the\n",
    "accuracy and BER of your new classifier (1 mark).**"
   ]
  },
  {
   "cell_type": "code",
   "execution_count": 455,
   "metadata": {},
   "outputs": [
    {
     "name": "stderr",
     "output_type": "stream",
     "text": [
      "c:\\users\\steph\\appdata\\local\\programs\\python\\python37\\lib\\site-packages\\sklearn\\svm\\base.py:929: ConvergenceWarning: Liblinear failed to converge, increase the number of iterations.\n",
      "  \"the number of iterations.\", ConvergenceWarning)\n"
     ]
    },
    {
     "data": {
      "text/plain": [
       "LogisticRegression(C=1.0, class_weight='balanced', dual=False,\n",
       "                   fit_intercept=True, intercept_scaling=1, l1_ratio=None,\n",
       "                   max_iter=100, multi_class='warn', n_jobs=None, penalty='l2',\n",
       "                   random_state=None, solver='warn', tol=0.0001, verbose=0,\n",
       "                   warm_start=False)"
      ]
     },
     "execution_count": 455,
     "metadata": {},
     "output_type": "execute_result"
    }
   ],
   "source": [
    "bal_model = linear_model.LogisticRegression(class_weight='balanced')\n",
    "bal_model.fit(X, y)"
   ]
  },
  {
   "cell_type": "code",
   "execution_count": 456,
   "metadata": {},
   "outputs": [
    {
     "name": "stdout",
     "output_type": "stream",
     "text": [
      " Accuracy = 0.7845595513032002\n",
      " Balanced Error Rate = 0.20609657314615837\n"
     ]
    }
   ],
   "source": [
    "format_results(calc_accuracy_BER(bal_model, X, y), '')"
   ]
  },
  {
   "cell_type": "markdown",
   "metadata": {},
   "source": [
    "**3. Shuffle the data, and split it into training, validation, and test splits, with a 50/25/25% ratio. Using the class weight=’balanced’ option, and training on the training set, report the training/validation/test accuracy and BER (1 mark).**"
   ]
  },
  {
   "cell_type": "code",
   "execution_count": 457,
   "metadata": {},
   "outputs": [],
   "source": [
    "f = open(\"data/5year.arff\", 'r')"
   ]
  },
  {
   "cell_type": "code",
   "execution_count": 458,
   "metadata": {},
   "outputs": [],
   "source": [
    "while not '@data' in f.readline(): # filter past odd lines\n",
    "    pass"
   ]
  },
  {
   "cell_type": "code",
   "execution_count": 459,
   "metadata": {},
   "outputs": [],
   "source": [
    "dataset = download_bank(f)"
   ]
  },
  {
   "cell_type": "code",
   "execution_count": 460,
   "metadata": {},
   "outputs": [],
   "source": [
    "import random\n",
    "random.shuffle(dataset)\n",
    "X = [values[:-1] for values in dataset]\n",
    "y = [values[-1] for values in dataset]"
   ]
  },
  {
   "cell_type": "code",
   "execution_count": 461,
   "metadata": {},
   "outputs": [],
   "source": [
    "# split the data\n",
    "N = len(X)\n",
    "fifty = int(np.around(N*.5))\n",
    "seventy_five = int(np.around(N*.75))\n",
    "\n",
    "X_train = X[:fifty]\n",
    "X_valid = X[fifty:seventy_five]\n",
    "X_test = X[seventy_five:]\n",
    "\n",
    "y_train = y[:fifty]\n",
    "y_valid = y[fifty:seventy_five]\n",
    "y_test = y[seventy_five:]"
   ]
  },
  {
   "cell_type": "code",
   "execution_count": 462,
   "metadata": {},
   "outputs": [
    {
     "name": "stderr",
     "output_type": "stream",
     "text": [
      "c:\\users\\steph\\appdata\\local\\programs\\python\\python37\\lib\\site-packages\\sklearn\\svm\\base.py:929: ConvergenceWarning: Liblinear failed to converge, increase the number of iterations.\n",
      "  \"the number of iterations.\", ConvergenceWarning)\n"
     ]
    },
    {
     "data": {
      "text/plain": [
       "LogisticRegression(C=1.0, class_weight='balanced', dual=False,\n",
       "                   fit_intercept=True, intercept_scaling=1, l1_ratio=None,\n",
       "                   max_iter=100, multi_class='warn', n_jobs=None, penalty='l2',\n",
       "                   random_state=None, solver='warn', tol=0.0001, verbose=0,\n",
       "                   warm_start=False)"
      ]
     },
     "execution_count": 462,
     "metadata": {},
     "output_type": "execute_result"
    }
   ],
   "source": [
    "random_model = linear_model.LogisticRegression(class_weight='balanced')\n",
    "random_model.fit(X_train, y_train)"
   ]
  },
  {
   "cell_type": "code",
   "execution_count": 463,
   "metadata": {},
   "outputs": [
    {
     "name": "stdout",
     "output_type": "stream",
     "text": [
      "Training Accuracy = 0.8568601583113457\n",
      "Training Balanced Error Rate = 0.14162346521145974\n"
     ]
    }
   ],
   "source": [
    "format_results(calc_accuracy_BER(random_model, X_train, y_train), 'Training')"
   ]
  },
  {
   "cell_type": "code",
   "execution_count": 464,
   "metadata": {},
   "outputs": [
    {
     "name": "stdout",
     "output_type": "stream",
     "text": [
      "Validation Accuracy = 0.8229854689564069\n",
      "Validation Balanced Error Rate = 0.29589216944801033\n"
     ]
    }
   ],
   "source": [
    "format_results(calc_accuracy_BER(random_model, X_valid, y_valid), 'Validation')"
   ]
  },
  {
   "cell_type": "code",
   "execution_count": 465,
   "metadata": {},
   "outputs": [
    {
     "name": "stdout",
     "output_type": "stream",
     "text": [
      "Testing Accuracy = 0.8232189973614775\n",
      "Testing Balanced Error Rate = 0.28041797283176595\n"
     ]
    }
   ],
   "source": [
    "format_results(calc_accuracy_BER(random_model, X_test, y_test), 'Testing')"
   ]
  },
  {
   "cell_type": "markdown",
   "metadata": {},
   "source": [
    "**4. Implement a complete regularization pipeline with the balanced classifier. Consider values of C in the range {10^-4, 10^-3, . . . , 10^3, 10^4}. Report (or plot) the train, validation, and test BER for each value of C. Based on these values, which classifier would you select (in terms of  generalization performance) and why (1 mark)?**"
   ]
  },
  {
   "cell_type": "code",
   "execution_count": 466,
   "metadata": {},
   "outputs": [],
   "source": [
    "f = open(\"data/5year.arff\", 'r')"
   ]
  },
  {
   "cell_type": "code",
   "execution_count": 467,
   "metadata": {},
   "outputs": [],
   "source": [
    "while not '@data' in f.readline(): # filter past odd lines\n",
    "    pass"
   ]
  },
  {
   "cell_type": "code",
   "execution_count": 468,
   "metadata": {},
   "outputs": [],
   "source": [
    "dataset = download_bank(f)\n",
    "random.shuffle(dataset)\n",
    "X = [values[:-1] for values in dataset]\n",
    "y = [values[-1] for values in dataset]\n",
    "\n",
    "# split the data\n",
    "N = len(X)\n",
    "fifty = int(np.around(N*.5))\n",
    "seventy_five = int(np.around(N*.75))\n",
    "\n",
    "X_train = X[:fifty]\n",
    "X_valid = X[fifty:seventy_five]\n",
    "X_test = X[seventy_five:]\n",
    "\n",
    "y_train = y[:fifty]\n",
    "y_valid = y[fifty:seventy_five]\n",
    "y_test = y[seventy_five:]"
   ]
  },
  {
   "cell_type": "code",
   "execution_count": 469,
   "metadata": {},
   "outputs": [
    {
     "data": {
      "text/plain": [
       "[0.0001, 0.001, 0.01, 0.1, 1, 10, 100, 1000, 10000]"
      ]
     },
     "execution_count": 469,
     "metadata": {},
     "output_type": "execute_result"
    }
   ],
   "source": [
    "c_model = [10**i for i in range(-4, 5)]\n",
    "c_model"
   ]
  },
  {
   "cell_type": "code",
   "execution_count": 470,
   "metadata": {},
   "outputs": [],
   "source": [
    "train_BER = []\n",
    "valid_BER = []\n",
    "test_BER = []\n",
    "\n",
    "# to find BER, i need to compare the actual labels with the predicted labels \n",
    "from sklearn.linear_model import RidgeClassifier\n",
    "\n",
    "for mod in c_model:        \n",
    "    reg_model = RidgeClassifier(mod, class_weight='balanced', fit_intercept=False)\n",
    "    reg_model.fit(X_train, y_train)\n",
    "    \n",
    "    tr = calc_accuracy_BER(reg_model, X_train, y_train, 'Training')\n",
    "    val = calc_accuracy_BER(reg_model, X_valid, y_valid, 'Validation')\n",
    "    te = calc_accuracy_BER(reg_model, X_test, y_test, 'Testing')\n",
    "    \n",
    "    train_BER.append(tr[1])    \n",
    "    valid_BER.append(val[1]) \n",
    "    test_BER.append(te[1])"
   ]
  },
  {
   "cell_type": "code",
   "execution_count": 471,
   "metadata": {},
   "outputs": [
    {
     "data": {
      "text/html": [
       "<div>\n",
       "<style scoped>\n",
       "    .dataframe tbody tr th:only-of-type {\n",
       "        vertical-align: middle;\n",
       "    }\n",
       "\n",
       "    .dataframe tbody tr th {\n",
       "        vertical-align: top;\n",
       "    }\n",
       "\n",
       "    .dataframe thead th {\n",
       "        text-align: right;\n",
       "    }\n",
       "</style>\n",
       "<table border=\"1\" class=\"dataframe\">\n",
       "  <thead>\n",
       "    <tr style=\"text-align: right;\">\n",
       "      <th></th>\n",
       "      <th>Training BER</th>\n",
       "      <th>Validation BER</th>\n",
       "      <th>Testing BER</th>\n",
       "    </tr>\n",
       "    <tr>\n",
       "      <th>C Values</th>\n",
       "      <th></th>\n",
       "      <th></th>\n",
       "      <th></th>\n",
       "    </tr>\n",
       "  </thead>\n",
       "  <tbody>\n",
       "    <tr>\n",
       "      <th>0.0001</th>\n",
       "      <td>0.117962</td>\n",
       "      <td>0.240604</td>\n",
       "      <td>0.279580</td>\n",
       "    </tr>\n",
       "    <tr>\n",
       "      <th>0.0010</th>\n",
       "      <td>0.118985</td>\n",
       "      <td>0.237841</td>\n",
       "      <td>0.278228</td>\n",
       "    </tr>\n",
       "    <tr>\n",
       "      <th>0.0100</th>\n",
       "      <td>0.117962</td>\n",
       "      <td>0.252993</td>\n",
       "      <td>0.247748</td>\n",
       "    </tr>\n",
       "    <tr>\n",
       "      <th>0.1000</th>\n",
       "      <td>0.127424</td>\n",
       "      <td>0.248849</td>\n",
       "      <td>0.247748</td>\n",
       "    </tr>\n",
       "    <tr>\n",
       "      <th>1.0000</th>\n",
       "      <td>0.147032</td>\n",
       "      <td>0.259857</td>\n",
       "      <td>0.278904</td>\n",
       "    </tr>\n",
       "    <tr>\n",
       "      <th>10.0000</th>\n",
       "      <td>0.165710</td>\n",
       "      <td>0.207538</td>\n",
       "      <td>0.226051</td>\n",
       "    </tr>\n",
       "    <tr>\n",
       "      <th>100.0000</th>\n",
       "      <td>0.182433</td>\n",
       "      <td>0.186255</td>\n",
       "      <td>0.245646</td>\n",
       "    </tr>\n",
       "    <tr>\n",
       "      <th>1000.0000</th>\n",
       "      <td>0.203159</td>\n",
       "      <td>0.230370</td>\n",
       "      <td>0.236787</td>\n",
       "    </tr>\n",
       "    <tr>\n",
       "      <th>10000.0000</th>\n",
       "      <td>0.219354</td>\n",
       "      <td>0.324690</td>\n",
       "      <td>0.339114</td>\n",
       "    </tr>\n",
       "  </tbody>\n",
       "</table>\n",
       "</div>"
      ],
      "text/plain": [
       "            Training BER  Validation BER  Testing BER\n",
       "C Values                                             \n",
       "0.0001          0.117962        0.240604     0.279580\n",
       "0.0010          0.118985        0.237841     0.278228\n",
       "0.0100          0.117962        0.252993     0.247748\n",
       "0.1000          0.127424        0.248849     0.247748\n",
       "1.0000          0.147032        0.259857     0.278904\n",
       "10.0000         0.165710        0.207538     0.226051\n",
       "100.0000        0.182433        0.186255     0.245646\n",
       "1000.0000       0.203159        0.230370     0.236787\n",
       "10000.0000      0.219354        0.324690     0.339114"
      ]
     },
     "execution_count": 471,
     "metadata": {},
     "output_type": "execute_result"
    }
   ],
   "source": [
    "df = pd.DataFrame({'Training BER': train_BER, 'Validation BER': valid_BER,'Testing BER': test_BER})\n",
    "df.index = c_model\n",
    "df = df.rename_axis('C Values')\n",
    "df"
   ]
  },
  {
   "cell_type": "code",
   "execution_count": 520,
   "metadata": {},
   "outputs": [
    {
     "data": {
      "text/plain": [
       "25"
      ]
     },
     "execution_count": 520,
     "metadata": {},
     "output_type": "execute_result"
    }
   ],
   "source": [
    "# Use validation set BER (Balanced Error Rate) to choose the best value of C\n",
    "min_validation_BER = df['Validation BER'].idxmin()\n",
    "min_validation_BER"
   ]
  },
  {
   "cell_type": "code",
   "execution_count": 523,
   "metadata": {},
   "outputs": [
    {
     "data": {
      "image/png": "[encoded data removed]",
      "text/plain": [
       "<Figure size 432x288 with 1 Axes>"
      ]
     },
     "metadata": {
      "needs_background": "light"
     },
     "output_type": "display_data"
    }
   ],
   "source": [
    "df.plot(kind='line');\n",
    "# The plot shows that 25 Components yields the lowest BER"
   ]
  },
  {
   "cell_type": "markdown",
   "metadata": {},
   "source": [
    "**5. (CSE158 only) Compute the Fβ scores for β = 1, β = 0.1, and β = 10 for the above classifier, using\n",
    "C = 1 (on the test set) (1 mark).**\n",
    "<table><tr><td><img src=\"imgs/F_b_score.png\"></td><td><img src=\"imgs/prec_recall.png\"></td></tr></table>"
   ]
  },
  {
   "cell_type": "code",
   "execution_count": 474,
   "metadata": {},
   "outputs": [],
   "source": [
    "f = open(\"data/5year.arff\", 'r')"
   ]
  },
  {
   "cell_type": "code",
   "execution_count": 475,
   "metadata": {},
   "outputs": [],
   "source": [
    "while not '@data' in f.readline(): # filter past odd lines\n",
    "    pass"
   ]
  },
  {
   "cell_type": "code",
   "execution_count": 476,
   "metadata": {},
   "outputs": [],
   "source": [
    "dataset = download_bank(f)\n",
    "\n",
    "import random\n",
    "random.shuffle(dataset)\n",
    "X = [values[:-1] for values in dataset]\n",
    "y = [values[-1] for values in dataset]\n",
    "\n",
    "# split the data\n",
    "N = len(X)\n",
    "fifty = int(np.around(N*.5))\n",
    "seventy_five = int(np.around(N*.75))\n",
    "\n",
    "X_train = X[:fifty]\n",
    "X_valid = X[fifty:seventy_five]\n",
    "X_test = X[seventy_five:]\n",
    "\n",
    "y_train = y[:fifty]\n",
    "y_valid = y[fifty:seventy_five]\n",
    "y_test = y[seventy_five:]"
   ]
  },
  {
   "cell_type": "code",
   "execution_count": 477,
   "metadata": {},
   "outputs": [
    {
     "name": "stderr",
     "output_type": "stream",
     "text": [
      "c:\\users\\steph\\appdata\\local\\programs\\python\\python37\\lib\\site-packages\\sklearn\\svm\\base.py:929: ConvergenceWarning: Liblinear failed to converge, increase the number of iterations.\n",
      "  \"the number of iterations.\", ConvergenceWarning)\n"
     ]
    }
   ],
   "source": [
    "model = linear_model.LogisticRegression(C=1.0, class_weight='balanced')\n",
    "model.fit(X_train, y_train)\n",
    "predictions = model.predict(X_test)"
   ]
  },
  {
   "cell_type": "code",
   "execution_count": 478,
   "metadata": {},
   "outputs": [],
   "source": [
    "# Args: (y_true, y_pred)\n",
    "from sklearn.metrics import precision_score\n",
    "from sklearn.metrics import recall_score "
   ]
  },
  {
   "cell_type": "code",
   "execution_count": 479,
   "metadata": {},
   "outputs": [],
   "source": [
    "def F_bscore(prec, rec, b):\n",
    "    return (1 + b**2) * ((prec * rec) / ((b**2 * prec) + rec))"
   ]
  },
  {
   "cell_type": "code",
   "execution_count": 480,
   "metadata": {},
   "outputs": [
    {
     "data": {
      "text/html": [
       "<div>\n",
       "<style scoped>\n",
       "    .dataframe tbody tr th:only-of-type {\n",
       "        vertical-align: middle;\n",
       "    }\n",
       "\n",
       "    .dataframe tbody tr th {\n",
       "        vertical-align: top;\n",
       "    }\n",
       "\n",
       "    .dataframe thead th {\n",
       "        text-align: right;\n",
       "    }\n",
       "</style>\n",
       "<table border=\"1\" class=\"dataframe\">\n",
       "  <thead>\n",
       "    <tr style=\"text-align: right;\">\n",
       "      <th></th>\n",
       "      <th>B = 1</th>\n",
       "      <th>B = 0.01</th>\n",
       "      <th>B = 10</th>\n",
       "    </tr>\n",
       "  </thead>\n",
       "  <tbody>\n",
       "    <tr>\n",
       "      <th>Fβ Score</th>\n",
       "      <td>0.223301</td>\n",
       "      <td>0.130301</td>\n",
       "      <td>0.780054</td>\n",
       "    </tr>\n",
       "  </tbody>\n",
       "</table>\n",
       "</div>"
      ],
      "text/plain": [
       "             B = 1  B = 0.01    B = 10\n",
       "Fβ Score  0.223301  0.130301  0.780054"
      ]
     },
     "execution_count": 480,
     "metadata": {},
     "output_type": "execute_result"
    }
   ],
   "source": [
    "scores = []\n",
    "\n",
    "# Recall: q_5_info = [y_test, predictionsTest]\n",
    "b_list = [1, 0.1, 10]\n",
    "for b in b_list:\n",
    "    precision = precision_score(y_test, predictions) \n",
    "    recall = recall_score(y_test, predictions)\n",
    "    scores.append(F_bscore(precision, recall, b))\n",
    "    \n",
    "df = pd.DataFrame({'B = 1': [scores[0]], 'B = 0.01': [scores[1]], 'B = 10': [scores[2]]})\n",
    "df.index = ['Fβ Score']\n",
    "df"
   ]
  },
  {
   "cell_type": "markdown",
   "metadata": {},
   "source": [
    "### Tasks — Dimensionality Reduction (week 3):\n",
    "Next we’ll consider using PCA to build a lower-dimensional feature vector to do prediction."
   ]
  },
  {
   "cell_type": "markdown",
   "metadata": {},
   "source": [
    "**7. Following the stub code, compute the PCA basis on the training set. Report the first PCA component\n",
    "(i.e., pca.components_[0]) (1 mark).**\n"
   ]
  },
  {
   "cell_type": "code",
   "execution_count": 501,
   "metadata": {},
   "outputs": [],
   "source": [
    "f = open(\"data/5year.arff\", 'r')"
   ]
  },
  {
   "cell_type": "code",
   "execution_count": 502,
   "metadata": {},
   "outputs": [],
   "source": [
    "while not '@data' in f.readline(): # filter past odd lines\n",
    "    pass"
   ]
  },
  {
   "cell_type": "code",
   "execution_count": 503,
   "metadata": {},
   "outputs": [],
   "source": [
    "dataset = download_bank(f)\n",
    "\n",
    "import random\n",
    "random.shuffle(dataset)\n",
    "X = [values[:-1] for values in dataset]\n",
    "y = [values[-1] for values in dataset]\n",
    "\n",
    "# split the data\n",
    "N = len(X)\n",
    "fifty = int(np.around(N*.5))\n",
    "seventy_five = int(np.around(N*.75))\n",
    "\n",
    "X_train = X[:fifty]\n",
    "X_valid = X[fifty:seventy_five]\n",
    "X_test = X[seventy_five:]\n",
    "\n",
    "y_train = y[:fifty]\n",
    "y_valid = y[fifty:seventy_five]\n",
    "y_test = y[seventy_five:]"
   ]
  },
  {
   "cell_type": "code",
   "execution_count": 504,
   "metadata": {},
   "outputs": [],
   "source": [
    "from sklearn.decomposition import PCA # PCA library"
   ]
  },
  {
   "cell_type": "code",
   "execution_count": 505,
   "metadata": {},
   "outputs": [
    {
     "data": {
      "text/plain": [
       "PCA(copy=True, iterated_power='auto', n_components=65, random_state=None,\n",
       "    svd_solver='auto', tol=0.0, whiten=False)"
      ]
     },
     "execution_count": 505,
     "metadata": {},
     "output_type": "execute_result"
    }
   ],
   "source": [
    "n = len(X_train[0]) # extract all features\n",
    "pca = PCA(n_components = n) \n",
    "pca.fit(X_train) # computes covarience matrix"
   ]
  },
  {
   "cell_type": "code",
   "execution_count": 506,
   "metadata": {},
   "outputs": [
    {
     "data": {
      "text/plain": [
       "array([-3.62686012e-19,  3.32909449e-07, -1.58241364e-06,  1.89038724e-06,\n",
       "        1.18710332e-05,  4.12904237e-03,  1.77048429e-06,  3.68529251e-07,\n",
       "        1.10420358e-05, -1.20522813e-06,  1.44554108e-06,  2.76674977e-07,\n",
       "        2.17338623e-06, -9.40598729e-06,  3.67902649e-07, -1.40988980e-02,\n",
       "        1.84087450e-06,  1.21652256e-05,  1.37597729e-07,  4.24138664e-07,\n",
       "        6.77493825e-05, -2.12545125e-05,  2.32384217e-07,  3.94196405e-07,\n",
       "        1.52645753e-06,  1.78887399e-06,  1.64536795e-06, -3.90568111e-05,\n",
       "        6.76242978e-05,  5.42043173e-06, -2.06541928e-06,  4.10010216e-07,\n",
       "       -6.16232825e-04,  1.00722408e-05, -3.52635512e-06,  2.09308922e-07,\n",
       "       -1.49549339e-06,  1.27950485e-02,  1.36462920e-06,  2.69753396e-07,\n",
       "        5.73933455e-06, -6.95116526e-06,  1.44251707e-07,  1.21823732e-04,\n",
       "        5.40715558e-05, -8.52336229e-07,  8.79968514e-06,  1.47730070e-05,\n",
       "        3.06000131e-07,  3.40084736e-07,  8.79861195e-06, -1.39427605e-06,\n",
       "       -1.65402055e-06, -8.67023108e-06,  6.72959153e-05,  9.99809903e-01,\n",
       "        2.36297022e-07, -6.03291340e-08, -3.07676557e-07, -8.71991016e-07,\n",
       "       -8.09642703e-05, -2.46632016e-05, -4.42513766e-04,  1.25145583e-05,\n",
       "       -7.23650498e-07])"
      ]
     },
     "execution_count": 506,
     "metadata": {},
     "output_type": "execute_result"
    }
   ],
   "source": [
    "# Eivenvectors in order of Eigenvalue: increasing importance\n",
    "pca.components_[0]"
   ]
  },
  {
   "cell_type": "markdown",
   "metadata": {},
   "source": [
    "**8. Next we’ll train a model using a low-dimensional feature vector. By representing the data in the above\n",
    "basis, i.e.:**\n",
    "\n",
    "Xpca_train = numpy.matmul(Xtrain, pca.components_.T)\n",
    "\n",
    "Xpca_valid = numpy.matmul(Xvalid, pca.components_.T)\n",
    "\n",
    "Xpca_test = numpy.matmul(Xtest, pca.components_.T)\n",
    "\n",
    "**compute the validation and test BER of a model that uses just the first N components (i.e., dimensions) for N = 5, 10, . . . , 25, 30. Again use class weight=’balanced’ and C = 1.0 (2 marks).**"
   ]
  },
  {
   "cell_type": "code",
   "execution_count": 507,
   "metadata": {},
   "outputs": [],
   "source": [
    "# calculate transformed (rotated) dataset\n",
    "\n",
    "Xpca_train = numpy.matmul(X_train, pca.components_.T)\n",
    "Xpca_valid = numpy.matmul(X_valid, pca.components_.T)\n",
    "Xpca_test = numpy.matmul(X_test, pca.components_.T)"
   ]
  },
  {
   "cell_type": "code",
   "execution_count": 513,
   "metadata": {},
   "outputs": [
    {
     "name": "stderr",
     "output_type": "stream",
     "text": [
      "c:\\users\\steph\\appdata\\local\\programs\\python\\python37\\lib\\site-packages\\sklearn\\svm\\base.py:929: ConvergenceWarning: Liblinear failed to converge, increase the number of iterations.\n",
      "  \"the number of iterations.\", ConvergenceWarning)\n",
      "c:\\users\\steph\\appdata\\local\\programs\\python\\python37\\lib\\site-packages\\sklearn\\svm\\base.py:929: ConvergenceWarning: Liblinear failed to converge, increase the number of iterations.\n",
      "  \"the number of iterations.\", ConvergenceWarning)\n",
      "c:\\users\\steph\\appdata\\local\\programs\\python\\python37\\lib\\site-packages\\sklearn\\svm\\base.py:929: ConvergenceWarning: Liblinear failed to converge, increase the number of iterations.\n",
      "  \"the number of iterations.\", ConvergenceWarning)\n",
      "c:\\users\\steph\\appdata\\local\\programs\\python\\python37\\lib\\site-packages\\sklearn\\svm\\base.py:929: ConvergenceWarning: Liblinear failed to converge, increase the number of iterations.\n",
      "  \"the number of iterations.\", ConvergenceWarning)\n"
     ]
    }
   ],
   "source": [
    "dim = [i for i in range(5, 35, 5)]\n",
    "results = {'Validation BER': [], 'Testing BER': []}\n",
    "\n",
    "for d in dim:\n",
    "    # train a model on reduced data\n",
    "    mod = linear_model.LogisticRegression(C=1.0, class_weight='balanced')\n",
    "    reduced_train = [x[:d] for x in Xpca_train]\n",
    "    mod.fit(reduced_train, y_train)\n",
    "\n",
    "    reduced_val = [x[:d] for x in Xpca_valid]\n",
    "    reduced_test = [x[:d] for x in Xpca_test]\n",
    "    \n",
    "    val = mod.predict(reduced_val)\n",
    "    test = mod.predict(reduced_test)\n",
    "    \n",
    "    val_ = calc_BER(val, y_valid) # pred, true\n",
    "    test_ = calc_BER(test, y_test)\n",
    "    \n",
    "    results['Validation BER'] = results['Validation BER'] + [val_]\n",
    "    results['Testing BER'] = results['Testing BER'] + [test_]"
   ]
  },
  {
   "cell_type": "code",
   "execution_count": 517,
   "metadata": {},
   "outputs": [
    {
     "data": {
      "text/html": [
       "<div>\n",
       "<style scoped>\n",
       "    .dataframe tbody tr th:only-of-type {\n",
       "        vertical-align: middle;\n",
       "    }\n",
       "\n",
       "    .dataframe tbody tr th {\n",
       "        vertical-align: top;\n",
       "    }\n",
       "\n",
       "    .dataframe thead th {\n",
       "        text-align: right;\n",
       "    }\n",
       "</style>\n",
       "<table border=\"1\" class=\"dataframe\">\n",
       "  <thead>\n",
       "    <tr style=\"text-align: right;\">\n",
       "      <th></th>\n",
       "      <th>Validation BER</th>\n",
       "      <th>Testing BER</th>\n",
       "    </tr>\n",
       "    <tr>\n",
       "      <th>N Components</th>\n",
       "      <th></th>\n",
       "      <th></th>\n",
       "    </tr>\n",
       "  </thead>\n",
       "  <tbody>\n",
       "    <tr>\n",
       "      <th>5</th>\n",
       "      <td>0.338209</td>\n",
       "      <td>0.367434</td>\n",
       "    </tr>\n",
       "    <tr>\n",
       "      <th>10</th>\n",
       "      <td>0.348258</td>\n",
       "      <td>0.354298</td>\n",
       "    </tr>\n",
       "    <tr>\n",
       "      <th>15</th>\n",
       "      <td>0.313375</td>\n",
       "      <td>0.375683</td>\n",
       "    </tr>\n",
       "    <tr>\n",
       "      <th>20</th>\n",
       "      <td>0.287304</td>\n",
       "      <td>0.374317</td>\n",
       "    </tr>\n",
       "    <tr>\n",
       "      <th>25</th>\n",
       "      <td>0.265337</td>\n",
       "      <td>0.351671</td>\n",
       "    </tr>\n",
       "    <tr>\n",
       "      <th>30</th>\n",
       "      <td>0.285252</td>\n",
       "      <td>0.350305</td>\n",
       "    </tr>\n",
       "  </tbody>\n",
       "</table>\n",
       "</div>"
      ],
      "text/plain": [
       "              Validation BER  Testing BER\n",
       "N Components                             \n",
       "5                   0.338209     0.367434\n",
       "10                  0.348258     0.354298\n",
       "15                  0.313375     0.375683\n",
       "20                  0.287304     0.374317\n",
       "25                  0.265337     0.351671\n",
       "30                  0.285252     0.350305"
      ]
     },
     "execution_count": 517,
     "metadata": {},
     "output_type": "execute_result"
    }
   ],
   "source": [
    "df = pd.DataFrame(results)\n",
    "df.index = dim\n",
    "df = df.rename_axis('N Components')\n",
    "df"
   ]
  },
  {
   "cell_type": "code",
   "execution_count": null,
   "metadata": {},
   "outputs": [],
   "source": []
  }
 ],
 "metadata": {
  "kernelspec": {
   "display_name": "Python 3",
   "language": "python",
   "name": "python3"
  },
  "language_info": {
   "codemirror_mode": {
    "name": "ipython",
    "version": 3
   },
   "file_extension": ".py",
   "mimetype": "text/x-python",
   "name": "python",
   "nbconvert_exporter": "python",
   "pygments_lexer": "ipython3",
   "version": "3.7.3"
  }
 },
 "nbformat": 4,
 "nbformat_minor": 2
}
