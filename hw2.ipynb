{
 "cells": [
  {
   "cell_type": "code",
   "execution_count": 143,
   "metadata": {},
   "outputs": [],
   "source": [
    "import gzip\n",
    "from collections import defaultdict\n",
    "import scipy\n",
    "import scipy.optimize\n",
    "import numpy\n",
    "import random\n",
    "import numpy as np \n",
    "import pandas as pd\n",
    "from IPython.display import HTML, display\n",
    "\n",
    "\n",
    "# import warnings filter\n",
    "import warnings\n",
    "from warnings import simplefilter\n",
    "# ignore all future warnings"
   ]
  },
  {
   "cell_type": "markdown",
   "metadata": {},
   "source": [
    "### Instructions\n",
    "\n",
    "You will need the following files:\n",
    "\n",
    "* Polish Bankruptcy data : https://archive.ics.uci.edu/ml/datasets/Polish+companies+bankruptcy+\n",
    "data\n",
    "\n",
    "* Code examples : http://jmcauley.ucsd.edu/code/week2.py (classification) and http://jmcauley.ucsd.\n",
    "edu/code/week3.py (clustering/communities)\n"
   ]
  },
  {
   "cell_type": "markdown",
   "metadata": {},
   "source": [
    "## Tasks — Diagnostics (week 2):\n",
    "In the first homework, we had two issues with the classifiers we built. Namely (1) the data were not shuffled, and (2) the labels were highly imbalanced. Both of these made it difficult to effectively build an accurate classifier. Here we’ll try and correct for those issues using the Bankruptcy dataset."
   ]
  },
  {
   "cell_type": "markdown",
   "metadata": {},
   "source": [
    "**1. Download and parse the bankruptcy data. We’ll use the 5year.arff file. Code to read the data is\n",
    "available in the stub.**"
   ]
  },
  {
   "cell_type": "code",
   "execution_count": 107,
   "metadata": {},
   "outputs": [],
   "source": [
    "f = open(\"data/5year.arff\", 'r')"
   ]
  },
  {
   "cell_type": "code",
   "execution_count": 108,
   "metadata": {},
   "outputs": [],
   "source": [
    "while not '@data' in f.readline(): # filter past odd lines\n",
    "    pass"
   ]
  },
  {
   "cell_type": "code",
   "execution_count": 109,
   "metadata": {},
   "outputs": [],
   "source": [
    "dataset = []\n",
    "for l in f:\n",
    "    if '?' in l: # Missing entry\n",
    "        continue\n",
    "    l = l.split(',')\n",
    "    values = [1] + [float(x) for x in l]\n",
    "    values[-1] = values[-1] > 0 # Convert to bool\n",
    "    dataset.append(values)"
   ]
  },
  {
   "cell_type": "markdown",
   "metadata": {},
   "source": [
    "**Train a logistic regressor (e.g. sklearn.linear model.LogisticRegression) with\n",
    "regularization coefficient C = 1.0. Report the accuracy and Balanced Error Rate (BER) of your classifier (1 mark).**"
   ]
  },
  {
   "cell_type": "code",
   "execution_count": 110,
   "metadata": {},
   "outputs": [],
   "source": [
    "X = [values[:-1] for values in dataset]\n",
    "y = [values[-1] for values in dataset]"
   ]
  },
  {
   "cell_type": "code",
   "execution_count": 111,
   "metadata": {},
   "outputs": [
    {
     "name": "stderr",
     "output_type": "stream",
     "text": [
      "c:\\users\\steph\\appdata\\local\\programs\\python\\python37\\lib\\site-packages\\sklearn\\svm\\base.py:929: ConvergenceWarning: Liblinear failed to converge, increase the number of iterations.\n",
      "  \"the number of iterations.\", ConvergenceWarning)\n"
     ]
    },
    {
     "data": {
      "text/plain": [
       "LogisticRegression(C=1.0, class_weight=None, dual=False, fit_intercept=True,\n",
       "                   intercept_scaling=1, l1_ratio=None, max_iter=100,\n",
       "                   multi_class='warn', n_jobs=None, penalty='l2',\n",
       "                   random_state=None, solver='warn', tol=0.0001, verbose=0,\n",
       "                   warm_start=False)"
      ]
     },
     "execution_count": 111,
     "metadata": {},
     "output_type": "execute_result"
    }
   ],
   "source": [
    "from sklearn import linear_model\n",
    "model = linear_model.LogisticRegression()\n",
    "model.fit(X, y)"
   ]
  },
  {
   "cell_type": "code",
   "execution_count": 112,
   "metadata": {},
   "outputs": [],
   "source": [
    "predictions = model.predict(X)\n",
    "correctPredictions = predictions == y"
   ]
  },
  {
   "cell_type": "code",
   "execution_count": 113,
   "metadata": {},
   "outputs": [
    {
     "data": {
      "text/plain": [
       "0.9660178159023425"
      ]
     },
     "execution_count": 113,
     "metadata": {},
     "output_type": "execute_result"
    }
   ],
   "source": [
    "accuracy = sum(correctPredictions) / len(correctPredictions)\n",
    "accuracy"
   ]
  },
  {
   "cell_type": "code",
   "execution_count": 114,
   "metadata": {},
   "outputs": [
    {
     "data": {
      "text/plain": [
       "0.5140230554495612"
      ]
     },
     "execution_count": 114,
     "metadata": {},
     "output_type": "execute_result"
    }
   ],
   "source": [
    "from sklearn import metrics\n",
    "BER = metrics.balanced_accuracy_score(y, predictions) \n",
    "BER"
   ]
  },
  {
   "cell_type": "markdown",
   "metadata": {},
   "source": [
    "**2. (CSE158 only) Retrain the above model using the class weight=’balanced’ option. Report the\n",
    "accuracy and BER of your new classifier (1 mark).**"
   ]
  },
  {
   "cell_type": "code",
   "execution_count": 115,
   "metadata": {},
   "outputs": [
    {
     "name": "stderr",
     "output_type": "stream",
     "text": [
      "c:\\users\\steph\\appdata\\local\\programs\\python\\python37\\lib\\site-packages\\sklearn\\svm\\base.py:929: ConvergenceWarning: Liblinear failed to converge, increase the number of iterations.\n",
      "  \"the number of iterations.\", ConvergenceWarning)\n"
     ]
    },
    {
     "data": {
      "text/plain": [
       "LogisticRegression(C=1.0, class_weight='balanced', dual=False,\n",
       "                   fit_intercept=True, intercept_scaling=1, l1_ratio=None,\n",
       "                   max_iter=100, multi_class='warn', n_jobs=None, penalty='l2',\n",
       "                   random_state=None, solver='warn', tol=0.0001, verbose=0,\n",
       "                   warm_start=False)"
      ]
     },
     "execution_count": 115,
     "metadata": {},
     "output_type": "execute_result"
    }
   ],
   "source": [
    "bal_model = linear_model.LogisticRegression(class_weight='balanced')\n",
    "bal_model.fit(X, y)"
   ]
  },
  {
   "cell_type": "code",
   "execution_count": 116,
   "metadata": {},
   "outputs": [],
   "source": [
    "bal_pred = model.predict(X)\n",
    "correctPred = bal_pred == y"
   ]
  },
  {
   "cell_type": "code",
   "execution_count": 117,
   "metadata": {},
   "outputs": [
    {
     "data": {
      "text/plain": [
       "0.9660178159023425"
      ]
     },
     "execution_count": 117,
     "metadata": {},
     "output_type": "execute_result"
    }
   ],
   "source": [
    "bal_accuracy = sum(correctPred) / len(correctPred)\n",
    "bal_accuracy"
   ]
  },
  {
   "cell_type": "code",
   "execution_count": 118,
   "metadata": {},
   "outputs": [
    {
     "data": {
      "text/plain": [
       "0.5140230554495612"
      ]
     },
     "execution_count": 118,
     "metadata": {},
     "output_type": "execute_result"
    }
   ],
   "source": [
    "bal_BER = metrics.balanced_accuracy_score(y, bal_pred) \n",
    "bal_BER"
   ]
  },
  {
   "cell_type": "markdown",
   "metadata": {},
   "source": [
    "**3. Shuffle the data, and split it into training, validation, and test splits, with a 50/25/25% ratio. Using the class weight=’balanced’ option, and training on the training set, report the training/validation/test accuracy and BER (1 mark).**"
   ]
  },
  {
   "cell_type": "code",
   "execution_count": 119,
   "metadata": {},
   "outputs": [],
   "source": [
    "# read in data again\n",
    "f = open(\"data/5year.arff\", 'r')\n",
    "while not '@data' in f.readline(): # filter past odd lines\n",
    "    pass"
   ]
  },
  {
   "cell_type": "code",
   "execution_count": 120,
   "metadata": {},
   "outputs": [],
   "source": [
    "dataset = []\n",
    "for l in f:\n",
    "    if '?' in l: # Missing entry\n",
    "        continue\n",
    "    l = l.split(',')\n",
    "    values = [1] + [float(x) for x in l]\n",
    "    values[-1] = values[-1] > 0 # Convert to bool\n",
    "    dataset.append(values)"
   ]
  },
  {
   "cell_type": "code",
   "execution_count": 121,
   "metadata": {},
   "outputs": [],
   "source": [
    "import random\n",
    "random.shuffle(dataset)\n",
    "X = [values[:-1] for values in dataset]\n",
    "y = [values[-1] for values in dataset]"
   ]
  },
  {
   "cell_type": "code",
   "execution_count": 122,
   "metadata": {},
   "outputs": [],
   "source": [
    "# split the data\n",
    "N = len(X)\n",
    "fifty = int(np.around(N*.5))\n",
    "seventy_five = int(np.around(N*.75))\n",
    "\n",
    "X_train = X[:fifty]\n",
    "X_valid = X[fifty:seventy_five]\n",
    "X_test = X[seventy_five:]\n",
    "\n",
    "y_train = y[:fifty]\n",
    "y_valid = y[fifty:seventy_five]\n",
    "y_test = y[seventy_five:]"
   ]
  },
  {
   "cell_type": "code",
   "execution_count": 123,
   "metadata": {},
   "outputs": [
    {
     "name": "stderr",
     "output_type": "stream",
     "text": [
      "c:\\users\\steph\\appdata\\local\\programs\\python\\python37\\lib\\site-packages\\sklearn\\svm\\base.py:929: ConvergenceWarning: Liblinear failed to converge, increase the number of iterations.\n",
      "  \"the number of iterations.\", ConvergenceWarning)\n"
     ]
    },
    {
     "data": {
      "text/plain": [
       "LogisticRegression(C=1.0, class_weight='balanced', dual=False,\n",
       "                   fit_intercept=True, intercept_scaling=1, l1_ratio=None,\n",
       "                   max_iter=100, multi_class='warn', n_jobs=None, penalty='l2',\n",
       "                   random_state=None, solver='warn', tol=0.0001, verbose=0,\n",
       "                   warm_start=False)"
      ]
     },
     "execution_count": 123,
     "metadata": {},
     "output_type": "execute_result"
    }
   ],
   "source": [
    "random_model = linear_model.LogisticRegression(class_weight='balanced')\n",
    "random_model.fit(X_train, y_train)"
   ]
  },
  {
   "cell_type": "code",
   "execution_count": 124,
   "metadata": {},
   "outputs": [],
   "source": [
    "predictionsTrain = random_model.predict(X_train)\n",
    "predictionsValid = random_model.predict(X_valid)\n",
    "predictionsTest = random_model.predict(X_test)\n",
    "\n",
    "correctPredictionsTrain = predictionsTrain == y_train\n",
    "correctPredictionsValid = predictionsValid == y_valid\n",
    "correctPredictionsTest = predictionsTest == y_test"
   ]
  },
  {
   "cell_type": "code",
   "execution_count": 125,
   "metadata": {},
   "outputs": [],
   "source": [
    "# Training Results"
   ]
  },
  {
   "cell_type": "code",
   "execution_count": 126,
   "metadata": {},
   "outputs": [
    {
     "data": {
      "text/plain": [
       "0.7519788918205804"
      ]
     },
     "execution_count": 126,
     "metadata": {},
     "output_type": "execute_result"
    }
   ],
   "source": [
    "train_accuracy = sum(correctPredictionsTrain) / len(correctPredictionsTrain)\n",
    "train_accuracy"
   ]
  },
  {
   "cell_type": "code",
   "execution_count": 127,
   "metadata": {},
   "outputs": [
    {
     "data": {
      "text/plain": [
       "0.7652594720984609"
      ]
     },
     "execution_count": 127,
     "metadata": {},
     "output_type": "execute_result"
    }
   ],
   "source": [
    "train_BER = metrics.balanced_accuracy_score(y_train, predictionsTrain) \n",
    "train_BER"
   ]
  },
  {
   "cell_type": "code",
   "execution_count": 128,
   "metadata": {},
   "outputs": [],
   "source": [
    "# Validation Results"
   ]
  },
  {
   "cell_type": "code",
   "execution_count": 129,
   "metadata": {},
   "outputs": [
    {
     "data": {
      "text/plain": [
       "0.7556142668428005"
      ]
     },
     "execution_count": 129,
     "metadata": {},
     "output_type": "execute_result"
    }
   ],
   "source": [
    "valid_accuracy = sum(correctPredictionsValid) / len(correctPredictionsValid)\n",
    "valid_accuracy"
   ]
  },
  {
   "cell_type": "code",
   "execution_count": 130,
   "metadata": {},
   "outputs": [
    {
     "data": {
      "text/plain": [
       "0.7664261013381446"
      ]
     },
     "execution_count": 130,
     "metadata": {},
     "output_type": "execute_result"
    }
   ],
   "source": [
    "valid_BER = metrics.balanced_accuracy_score(y_valid, predictionsValid) \n",
    "valid_BER"
   ]
  },
  {
   "cell_type": "code",
   "execution_count": 131,
   "metadata": {},
   "outputs": [],
   "source": [
    "# Testing Results"
   ]
  },
  {
   "cell_type": "code",
   "execution_count": 132,
   "metadata": {},
   "outputs": [
    {
     "data": {
      "text/plain": [
       "0.758575197889182"
      ]
     },
     "execution_count": 132,
     "metadata": {},
     "output_type": "execute_result"
    }
   ],
   "source": [
    "test_accuracy = sum(correctPredictionsTest) / len(correctPredictionsTest)\n",
    "test_accuracy"
   ]
  },
  {
   "cell_type": "code",
   "execution_count": 133,
   "metadata": {},
   "outputs": [
    {
     "data": {
      "text/plain": [
       "0.7399454297407912"
      ]
     },
     "execution_count": 133,
     "metadata": {},
     "output_type": "execute_result"
    }
   ],
   "source": [
    "test_BER = metrics.balanced_accuracy_score(y_test, predictionsTest) \n",
    "test_BER"
   ]
  },
  {
   "cell_type": "markdown",
   "metadata": {},
   "source": [
    "**4. Implement a complete regularization pipeline with the balanced classifier. Consider values of C in the range {10^-4, 10^-3, . . . , 10^3, 10^4}. Report (or plot) the train, validation, and test BER for each value of C. Based on these values, which classifier would you select (in terms of  generalization performance) and why (1 mark)?**"
   ]
  },
  {
   "cell_type": "code",
   "execution_count": 134,
   "metadata": {},
   "outputs": [
    {
     "data": {
      "text/plain": [
       "[0.0001, 0.001, 0.01, 0.1, 1, 10, 100, 1000, 10000]"
      ]
     },
     "execution_count": 134,
     "metadata": {},
     "output_type": "execute_result"
    }
   ],
   "source": [
    "c_model = [10**i for i in range(-4, 5)]\n",
    "c_model"
   ]
  },
  {
   "cell_type": "code",
   "execution_count": 153,
   "metadata": {},
   "outputs": [
    {
     "name": "stderr",
     "output_type": "stream",
     "text": [
      "c:\\users\\steph\\appdata\\local\\programs\\python\\python37\\lib\\site-packages\\sklearn\\linear_model\\ridge.py:147: LinAlgWarning: Ill-conditioned matrix (rcond=3.511e-17): result may not be accurate.\n",
      "  overwrite_a=True).T\n"
     ]
    }
   ],
   "source": [
    "train_BER = []\n",
    "valid_BER = []\n",
    "test_BER = []\n",
    "\n",
    "q_5_info = []\n",
    "\n",
    "# to find BER, i need to compare the actual labels with the predicted labels \n",
    "from sklearn.linear_model import RidgeClassifier\n",
    "\n",
    "for mod in c_model:        \n",
    "    reg_model = RidgeClassifier(mod, class_weight='balanced', fit_intercept=False)\n",
    "    reg_model.fit(X_train, y_train)\n",
    "            \n",
    "    predictionsTrain = reg_model.predict(X_train)\n",
    "    predictionsValid = reg_model.predict(X_valid)\n",
    "    predictionsTest = reg_model.predict(X_test)\n",
    "\n",
    "    correctPredictionsTrain = predictionsTrain == y_train\n",
    "    correctPredictionsValid = predictionsValid == y_valid\n",
    "    correctPredictionsTest = predictionsTest == y_test\n",
    "    \n",
    "    train_accuracy = sum(correctPredictionsTrain) / len(correctPredictionsTrain)\n",
    "    train_BER.append( metrics.balanced_accuracy_score(y_train, predictionsTrain))\n",
    "    \n",
    "    valid_accuracy = sum(correctPredictionsValid) / len(correctPredictionsValid)\n",
    "    valid_BER.append(metrics.balanced_accuracy_score(y_valid, predictionsValid)) \n",
    "\n",
    "    test_accuracy = sum(correctPredictionsTest) / len(correctPredictionsTest)\n",
    "    test_BER.append(metrics.balanced_accuracy_score(y_test, predictionsTest)) \n",
    "    \n",
    "    if mod == 1: # save model for question 5\n",
    "        q_5_info = q_5_info + [y_test, predictionsTest]"
   ]
  },
  {
   "cell_type": "code",
   "execution_count": 154,
   "metadata": {},
   "outputs": [
    {
     "data": {
      "text/html": [
       "<div>\n",
       "<style scoped>\n",
       "    .dataframe tbody tr th:only-of-type {\n",
       "        vertical-align: middle;\n",
       "    }\n",
       "\n",
       "    .dataframe tbody tr th {\n",
       "        vertical-align: top;\n",
       "    }\n",
       "\n",
       "    .dataframe thead th {\n",
       "        text-align: right;\n",
       "    }\n",
       "</style>\n",
       "<table border=\"1\" class=\"dataframe\">\n",
       "  <thead>\n",
       "    <tr style=\"text-align: right;\">\n",
       "      <th></th>\n",
       "      <th>Training BER</th>\n",
       "      <th>Validation BER</th>\n",
       "      <th>Testing BER</th>\n",
       "    </tr>\n",
       "    <tr>\n",
       "      <th>C Values</th>\n",
       "      <th></th>\n",
       "      <th></th>\n",
       "      <th></th>\n",
       "    </tr>\n",
       "  </thead>\n",
       "  <tbody>\n",
       "    <tr>\n",
       "      <th>0.0001</th>\n",
       "      <td>0.897915</td>\n",
       "      <td>0.801571</td>\n",
       "      <td>0.763383</td>\n",
       "    </tr>\n",
       "    <tr>\n",
       "      <th>0.0010</th>\n",
       "      <td>0.897229</td>\n",
       "      <td>0.827996</td>\n",
       "      <td>0.762701</td>\n",
       "    </tr>\n",
       "    <tr>\n",
       "      <th>0.0100</th>\n",
       "      <td>0.896886</td>\n",
       "      <td>0.827319</td>\n",
       "      <td>0.762701</td>\n",
       "    </tr>\n",
       "    <tr>\n",
       "      <th>0.1000</th>\n",
       "      <td>0.897572</td>\n",
       "      <td>0.800218</td>\n",
       "      <td>0.764065</td>\n",
       "    </tr>\n",
       "    <tr>\n",
       "      <th>1.0000</th>\n",
       "      <td>0.880280</td>\n",
       "      <td>0.800218</td>\n",
       "      <td>0.760655</td>\n",
       "    </tr>\n",
       "    <tr>\n",
       "      <th>10.0000</th>\n",
       "      <td>0.855438</td>\n",
       "      <td>0.849008</td>\n",
       "      <td>0.751105</td>\n",
       "    </tr>\n",
       "    <tr>\n",
       "      <th>100.0000</th>\n",
       "      <td>0.832445</td>\n",
       "      <td>0.830740</td>\n",
       "      <td>0.778145</td>\n",
       "    </tr>\n",
       "    <tr>\n",
       "      <th>1000.0000</th>\n",
       "      <td>0.815973</td>\n",
       "      <td>0.813825</td>\n",
       "      <td>0.792224</td>\n",
       "    </tr>\n",
       "    <tr>\n",
       "      <th>10000.0000</th>\n",
       "      <td>0.768453</td>\n",
       "      <td>0.756240</td>\n",
       "      <td>0.748131</td>\n",
       "    </tr>\n",
       "  </tbody>\n",
       "</table>\n",
       "</div>"
      ],
      "text/plain": [
       "            Training BER  Validation BER  Testing BER\n",
       "C Values                                             \n",
       "0.0001          0.897915        0.801571     0.763383\n",
       "0.0010          0.897229        0.827996     0.762701\n",
       "0.0100          0.896886        0.827319     0.762701\n",
       "0.1000          0.897572        0.800218     0.764065\n",
       "1.0000          0.880280        0.800218     0.760655\n",
       "10.0000         0.855438        0.849008     0.751105\n",
       "100.0000        0.832445        0.830740     0.778145\n",
       "1000.0000       0.815973        0.813825     0.792224\n",
       "10000.0000      0.768453        0.756240     0.748131"
      ]
     },
     "execution_count": 154,
     "metadata": {},
     "output_type": "execute_result"
    }
   ],
   "source": [
    "df = pd.DataFrame({'Training BER': train_BER, 'Validation BER': valid_BER,'Testing BER': test_BER})\n",
    "df.index = c_model\n",
    "df = df.rename_axis('C Values')\n",
    "df"
   ]
  },
  {
   "cell_type": "code",
   "execution_count": 155,
   "metadata": {},
   "outputs": [
    {
     "name": "stdout",
     "output_type": "stream",
     "text": [
      "Based on these values, I would select 10000.0 as my C value because it gives the smallest balanced error rate\n"
     ]
    }
   ],
   "source": [
    "# Use validation set BER (Balanced Error Rate) to choose the best value of C\n",
    "print('Based on these values, I would select {} as my C value because it gives the smallest balanced error rate'.format(df['Validation BER'].idxmin()))"
   ]
  },
  {
   "cell_type": "code",
   "execution_count": 156,
   "metadata": {},
   "outputs": [
    {
     "data": {
      "text/plain": [
       "<matplotlib.axes._subplots.AxesSubplot at 0x2a5bb470748>"
      ]
     },
     "execution_count": 156,
     "metadata": {},
     "output_type": "execute_result"
    },
    {
     "data": {
      "image/png": "[encoded data removed]",
      "text/plain": [
       "<Figure size 432x288 with 1 Axes>"
      ]
     },
     "metadata": {
      "needs_background": "light"
     },
     "output_type": "display_data"
    }
   ],
   "source": [
    "df.plot(kind='line')"
   ]
  },
  {
   "cell_type": "markdown",
   "metadata": {},
   "source": [
    "**5. (CSE158 only) Compute the Fβ scores for β = 1, β = 0.1, and β = 10 for the above classifier, using\n",
    "C = 1 (on the test set) (1 mark).**\n",
    "<table><tr><td><img src=\"imgs/F_b_score.png\"></td><td><img src=\"imgs/prec_recall.png\"></td></tr></table>"
   ]
  },
  {
   "cell_type": "code",
   "execution_count": 144,
   "metadata": {},
   "outputs": [],
   "source": [
    "from sklearn.metrics import precision_score # (y_true, y_pred)\n",
    "from sklearn.metrics import recall_score # (y_true, y_pred)"
   ]
  },
  {
   "cell_type": "code",
   "execution_count": 146,
   "metadata": {},
   "outputs": [],
   "source": [
    "def F_bscore(prec, rec, b):\n",
    "    return (1 + b**2) * ((prec * rec) / ((b**2 * prec) + rec))"
   ]
  },
  {
   "cell_type": "code",
   "execution_count": 169,
   "metadata": {},
   "outputs": [
    {
     "data": {
      "text/html": [
       "<div>\n",
       "<style scoped>\n",
       "    .dataframe tbody tr th:only-of-type {\n",
       "        vertical-align: middle;\n",
       "    }\n",
       "\n",
       "    .dataframe tbody tr th {\n",
       "        vertical-align: top;\n",
       "    }\n",
       "\n",
       "    .dataframe thead th {\n",
       "        text-align: right;\n",
       "    }\n",
       "</style>\n",
       "<table border=\"1\" class=\"dataframe\">\n",
       "  <thead>\n",
       "    <tr style=\"text-align: right;\">\n",
       "      <th></th>\n",
       "      <th>B = 1</th>\n",
       "      <th>B = 0.01</th>\n",
       "      <th>B = 10</th>\n",
       "    </tr>\n",
       "    <tr>\n",
       "      <th>Fβ Score</th>\n",
       "      <th></th>\n",
       "      <th></th>\n",
       "      <th></th>\n",
       "    </tr>\n",
       "  </thead>\n",
       "  <tbody>\n",
       "    <tr>\n",
       "      <th>0</th>\n",
       "      <td>0.25</td>\n",
       "      <td>0.156513</td>\n",
       "      <td>0.620822</td>\n",
       "    </tr>\n",
       "  </tbody>\n",
       "</table>\n",
       "</div>"
      ],
      "text/plain": [
       "          B = 1  B = 0.01    B = 10\n",
       "Fβ Score                           \n",
       "0          0.25  0.156513  0.620822"
      ]
     },
     "execution_count": 169,
     "metadata": {},
     "output_type": "execute_result"
    }
   ],
   "source": [
    "scores = []\n",
    "\n",
    "# Recall: q_5_info = [y_test, predictionsTest]\n",
    "b_list = [1, 0.1, 10]\n",
    "for b in b_list:\n",
    "    precision = precision_score(q_5_info[0], q_5_info[1]) \n",
    "    recall = recall_score(q_5_info[0], q_5_info[1])\n",
    "    scores.append(F_bscore(precision, recall, b))\n",
    "    \n",
    "df = pd.DataFrame({'B = 1': [scores[0]], 'B = 0.01': [scores[1]], 'B = 10': [scores[2]]})\n",
    "df = df.rename_axis('Fβ Score')\n",
    "df"
   ]
  },
  {
   "cell_type": "markdown",
   "metadata": {},
   "source": [
    "### Tasks — Dimensionality Reduction (week 3):\n",
    "Next we’ll consider using PCA to build a lower-dimensional feature vector to do prediction."
   ]
  },
  {
   "cell_type": "markdown",
   "metadata": {},
   "source": [
    "**7. Following the stub code, compute the PCA basis on the training set. Report the first PCA component\n",
    "(i.e., pca.components_[0]) (1 mark).**\n"
   ]
  },
  {
   "cell_type": "code",
   "execution_count": null,
   "metadata": {},
   "outputs": [],
   "source": []
  },
  {
   "cell_type": "code",
   "execution_count": null,
   "metadata": {},
   "outputs": [],
   "source": []
  },
  {
   "cell_type": "markdown",
   "metadata": {},
   "source": [
    "**8. Next we’ll train a model using a low-dimensional feature vector. By representing the data in the above\n",
    "basis, i.e.:**\n",
    "\n",
    "**Xpca_train = numpy.matmul(Xtrain, pca.components_.T)\n",
    "Xpca_valid = numpy.matmul(Xvalid, pca.components_.T)\n",
    "Xpca_test = numpy.matmul(Xtest, pca.components_.T)**\n",
    "\n",
    "**compute the validation and test BER of a model that uses just the first N components (i.e., dimensions) for N = 5, 10, . . . , 25, 30. Again use class weight=’balanced’ and C = 1.0 (2 marks).**"
   ]
  },
  {
   "cell_type": "code",
   "execution_count": null,
   "metadata": {},
   "outputs": [],
   "source": []
  },
  {
   "cell_type": "code",
   "execution_count": null,
   "metadata": {},
   "outputs": [],
   "source": []
  }
 ],
 "metadata": {
  "kernelspec": {
   "display_name": "Python 3",
   "language": "python",
   "name": "python3"
  },
  "language_info": {
   "codemirror_mode": {
    "name": "ipython",
    "version": 3
   },
   "file_extension": ".py",
   "mimetype": "text/x-python",
   "name": "python",
   "nbconvert_exporter": "python",
   "pygments_lexer": "ipython3",
   "version": "3.7.3"
  }
 },
 "nbformat": 4,
 "nbformat_minor": 2
}
