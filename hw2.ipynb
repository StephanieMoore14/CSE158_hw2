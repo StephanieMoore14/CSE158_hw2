{
 "cells": [
  {
   "cell_type": "code",
   "execution_count": 570,
   "metadata": {},
   "outputs": [],
   "source": [
    "import gzip\n",
    "from collections import defaultdict\n",
    "import scipy\n",
    "import scipy.optimize\n",
    "import numpy\n",
    "import random\n",
    "import numpy as np \n",
    "import pandas as pd\n",
    "import numpy\n",
    "import urllib\n",
    "import random\n",
    "import ast\n",
    "\n",
    "# import warnings filter\n",
    "import warnings\n",
    "from warnings import simplefilter\n",
    "# ignore all future warnings"
   ]
  },
  {
   "cell_type": "markdown",
   "metadata": {},
   "source": [
    "### Data\n",
    "\n",
    "* Polish Bankruptcy data : https://archive.ics.uci.edu/ml/datasets/Polish+companies+bankruptcy+\n",
    "data"
   ]
  },
  {
   "cell_type": "markdown",
   "metadata": {},
   "source": [
    "## Tasks — Diagnostics (week 2):\n",
    "In the first homework, we had two issues with the classifiers we built. Namely (1) the data were not shuffled, and (2) the labels were highly imbalanced. Both of these made it difficult to effectively build an accurate classifier. Here we’ll try and correct for those issues using the Bankruptcy dataset."
   ]
  },
  {
   "cell_type": "markdown",
   "metadata": {},
   "source": [
    "**1. Download and parse the bankruptcy data. We’ll use the 5year.arff file. Code to read the data is\n",
    "available in the stub.**"
   ]
  },
  {
   "cell_type": "code",
   "execution_count": 571,
   "metadata": {},
   "outputs": [],
   "source": [
    "f = open(\"data/5year.arff\", 'r')"
   ]
  },
  {
   "cell_type": "code",
   "execution_count": 572,
   "metadata": {},
   "outputs": [],
   "source": [
    "while not '@data' in f.readline(): # filter past odd lines\n",
    "    pass"
   ]
  },
  {
   "cell_type": "code",
   "execution_count": 573,
   "metadata": {},
   "outputs": [],
   "source": [
    "def download_bank(file): \n",
    "    dataset = []\n",
    "    for l in file:\n",
    "        if '?' in l: # Missing entry\n",
    "            continue\n",
    "        l = l.split(',')\n",
    "        values = [1] + [float(x) for x in l]\n",
    "        values[-1] = values[-1] > 0 # Convert to bool\n",
    "        dataset.append(values)\n",
    "    return dataset"
   ]
  },
  {
   "cell_type": "code",
   "execution_count": 574,
   "metadata": {},
   "outputs": [],
   "source": [
    "dataset = download_bank(f)"
   ]
  },
  {
   "cell_type": "markdown",
   "metadata": {},
   "source": [
    "**Train a logistic regressor (e.g. sklearn.linear model.LogisticRegression) with\n",
    "regularization coefficient C = 1.0.**"
   ]
  },
  {
   "cell_type": "code",
   "execution_count": 575,
   "metadata": {},
   "outputs": [],
   "source": [
    "X = [values[:-1] for values in dataset]\n",
    "y = [values[-1] for values in dataset]"
   ]
  },
  {
   "cell_type": "code",
   "execution_count": 576,
   "metadata": {},
   "outputs": [
    {
     "name": "stderr",
     "output_type": "stream",
     "text": [
      "c:\\users\\steph\\appdata\\local\\programs\\python\\python37\\lib\\site-packages\\sklearn\\svm\\base.py:929: ConvergenceWarning: Liblinear failed to converge, increase the number of iterations.\n",
      "  \"the number of iterations.\", ConvergenceWarning)\n"
     ]
    },
    {
     "data": {
      "text/plain": [
       "LogisticRegression(C=1.0, class_weight=None, dual=False, fit_intercept=True,\n",
       "                   intercept_scaling=1, l1_ratio=None, max_iter=100,\n",
       "                   multi_class='warn', n_jobs=None, penalty='l2',\n",
       "                   random_state=None, solver='warn', tol=0.0001, verbose=0,\n",
       "                   warm_start=False)"
      ]
     },
     "execution_count": 576,
     "metadata": {},
     "output_type": "execute_result"
    }
   ],
   "source": [
    "from sklearn import linear_model\n",
    "\n",
    "model = linear_model.LogisticRegression()\n",
    "model.fit(X, y)"
   ]
  },
  {
   "cell_type": "markdown",
   "metadata": {},
   "source": [
    "* I've created a helper function to calculate the BER for predictions and labels based on the lecture slides."
   ]
  },
  {
   "cell_type": "code",
   "execution_count": 577,
   "metadata": {},
   "outputs": [],
   "source": [
    "def calc_BER(predictions, y_true):\n",
    "    TP = sum([(p and l) for (p,l) in zip(predictions, y_true)])\n",
    "    FP = sum([(p and not l) for (p,l) in zip(predictions, y_true)])\n",
    "    TN = sum([(not p and not l) for (p,l) in zip(predictions, y_true)])\n",
    "    FN = sum([(not p and l) for (p,l) in zip(predictions, y_true)])\n",
    "    \n",
    "    TPR = TP / (TP + FN)\n",
    "    TNR = TN / (TN + FP)\n",
    "    BER = 1 - 1/2 * (TPR + TNR)\n",
    "    return BER"
   ]
  },
  {
   "cell_type": "markdown",
   "metadata": {},
   "source": [
    "* This helper function calculates the accuracy of a model given the data of features for prediction, the true labels, and the type of data set it is: Training, Validation, or Testing set"
   ]
  },
  {
   "cell_type": "code",
   "execution_count": 532,
   "metadata": {},
   "outputs": [],
   "source": [
    "def calc_accuracy_BER(mod, X, labels, test=''):\n",
    "    pred = mod.predict(X)\n",
    "    correctPred = [1 if pred[i]  == labels[i] else 0 for i in range(len(pred))]\n",
    "    accur = sum(correctPred) / len(correctPred)\n",
    "    ber = calc_BER(pred, labels)\n",
    "    return [accur, ber]"
   ]
  },
  {
   "cell_type": "markdown",
   "metadata": {},
   "source": [
    "* This is purely a funciton that makes answers that only have a few values easier to read, since they are not being formatted in a huge dataframe"
   ]
  },
  {
   "cell_type": "code",
   "execution_count": 533,
   "metadata": {},
   "outputs": [],
   "source": [
    "def format_results(ls, test):\n",
    "    accur = ls[0]\n",
    "    ber = ls[1]\n",
    "    print(\"{} Accuracy = \".format(test) + str(accur))\n",
    "    print(\"{} Balanced Error Rate = \".format(test) + str(ber))"
   ]
  },
  {
   "cell_type": "markdown",
   "metadata": {},
   "source": [
    "**Report the accuracy and Balanced Error Rate (BER) of your classifier (1 mark).**"
   ]
  },
  {
   "cell_type": "code",
   "execution_count": 534,
   "metadata": {},
   "outputs": [
    {
     "name": "stdout",
     "output_type": "stream",
     "text": [
      " Accuracy = 0.9660178159023425\n",
      " Balanced Error Rate = 0.4859769445504388\n"
     ]
    }
   ],
   "source": [
    "format_results(calc_accuracy_BER(model, X, y), '')"
   ]
  },
  {
   "cell_type": "markdown",
   "metadata": {},
   "source": [
    "**2. (CSE158 only) Retrain the above model using the class weight=’balanced’ option. Report the\n",
    "accuracy and BER of your new classifier (1 mark).**"
   ]
  },
  {
   "cell_type": "code",
   "execution_count": 578,
   "metadata": {},
   "outputs": [
    {
     "name": "stderr",
     "output_type": "stream",
     "text": [
      "c:\\users\\steph\\appdata\\local\\programs\\python\\python37\\lib\\site-packages\\sklearn\\svm\\base.py:929: ConvergenceWarning: Liblinear failed to converge, increase the number of iterations.\n",
      "  \"the number of iterations.\", ConvergenceWarning)\n"
     ]
    },
    {
     "data": {
      "text/plain": [
       "LogisticRegression(C=1.0, class_weight='balanced', dual=False,\n",
       "                   fit_intercept=True, intercept_scaling=1, l1_ratio=None,\n",
       "                   max_iter=100, multi_class='warn', n_jobs=None, penalty='l2',\n",
       "                   random_state=None, solver='warn', tol=0.0001, verbose=0,\n",
       "                   warm_start=False)"
      ]
     },
     "execution_count": 578,
     "metadata": {},
     "output_type": "execute_result"
    }
   ],
   "source": [
    "bal_model = linear_model.LogisticRegression(class_weight='balanced')\n",
    "bal_model.fit(X, y)"
   ]
  },
  {
   "cell_type": "code",
   "execution_count": 579,
   "metadata": {},
   "outputs": [
    {
     "name": "stdout",
     "output_type": "stream",
     "text": [
      " Accuracy = 0.7845595513032002\n",
      " Balanced Error Rate = 0.20609657314615837\n"
     ]
    }
   ],
   "source": [
    "format_results(calc_accuracy_BER(bal_model, X, y), '')"
   ]
  },
  {
   "cell_type": "markdown",
   "metadata": {},
   "source": [
    "**3. Shuffle the data, and split it into training, validation, and test splits, with a 50/ 25/ 25% ratio. Using the class weight=’balanced’ option, and training on the training set, report the training/validation/test accuracy and BER (1 mark).**"
   ]
  },
  {
   "cell_type": "code",
   "execution_count": 580,
   "metadata": {},
   "outputs": [],
   "source": [
    "f = open(\"data/5year.arff\", 'r')"
   ]
  },
  {
   "cell_type": "code",
   "execution_count": 581,
   "metadata": {},
   "outputs": [],
   "source": [
    "while not '@data' in f.readline(): # filter past odd lines\n",
    "    pass"
   ]
  },
  {
   "cell_type": "code",
   "execution_count": 582,
   "metadata": {},
   "outputs": [],
   "source": [
    "dataset = download_bank(f)"
   ]
  },
  {
   "cell_type": "code",
   "execution_count": 584,
   "metadata": {},
   "outputs": [],
   "source": [
    "# shuffle the data\n",
    "import random\n",
    "random.shuffle(dataset)\n",
    "X = [values[:-1] for values in dataset]\n",
    "y = [values[-1] for values in dataset]"
   ]
  },
  {
   "cell_type": "code",
   "execution_count": 585,
   "metadata": {},
   "outputs": [],
   "source": [
    "# split the data\n",
    "N = len(X)\n",
    "fifty = int(np.around(N*.5))\n",
    "seventy_five = int(np.around(N*.75))\n",
    "\n",
    "X_train = X[:fifty]\n",
    "X_valid = X[fifty:seventy_five]\n",
    "X_test = X[seventy_five:]\n",
    "\n",
    "y_train = y[:fifty]\n",
    "y_valid = y[fifty:seventy_five]\n",
    "y_test = y[seventy_five:]"
   ]
  },
  {
   "cell_type": "code",
   "execution_count": 586,
   "metadata": {},
   "outputs": [
    {
     "name": "stderr",
     "output_type": "stream",
     "text": [
      "c:\\users\\steph\\appdata\\local\\programs\\python\\python37\\lib\\site-packages\\sklearn\\svm\\base.py:929: ConvergenceWarning: Liblinear failed to converge, increase the number of iterations.\n",
      "  \"the number of iterations.\", ConvergenceWarning)\n"
     ]
    },
    {
     "data": {
      "text/plain": [
       "LogisticRegression(C=1.0, class_weight='balanced', dual=False,\n",
       "                   fit_intercept=True, intercept_scaling=1, l1_ratio=None,\n",
       "                   max_iter=100, multi_class='warn', n_jobs=None, penalty='l2',\n",
       "                   random_state=None, solver='warn', tol=0.0001, verbose=0,\n",
       "                   warm_start=False)"
      ]
     },
     "execution_count": 586,
     "metadata": {},
     "output_type": "execute_result"
    }
   ],
   "source": [
    "# train on training set\n",
    "random_model = linear_model.LogisticRegression(class_weight='balanced')\n",
    "random_model.fit(X_train, y_train)"
   ]
  },
  {
   "cell_type": "code",
   "execution_count": 587,
   "metadata": {},
   "outputs": [
    {
     "name": "stdout",
     "output_type": "stream",
     "text": [
      "Training Accuracy = 0.8410290237467019\n",
      "Training Balanced Error Rate = 0.2159016844575119\n"
     ]
    }
   ],
   "source": [
    "# Training Set Results\n",
    "format_results(calc_accuracy_BER(random_model, X_train, y_train), 'Training')"
   ]
  },
  {
   "cell_type": "code",
   "execution_count": 588,
   "metadata": {},
   "outputs": [
    {
     "name": "stdout",
     "output_type": "stream",
     "text": [
      "Validation Accuracy = 0.8348745046235139\n",
      "Validation Balanced Error Rate = 0.2236995341614907\n"
     ]
    }
   ],
   "source": [
    "# Validation Set Results\n",
    "format_results(calc_accuracy_BER(random_model, X_valid, y_valid), 'Validation')"
   ]
  },
  {
   "cell_type": "code",
   "execution_count": 589,
   "metadata": {},
   "outputs": [
    {
     "name": "stdout",
     "output_type": "stream",
     "text": [
      "Testing Accuracy = 0.8390501319261213\n",
      "Testing Balanced Error Rate = 0.23842216444588882\n"
     ]
    }
   ],
   "source": [
    "# Testing Set Results\n",
    "format_results(calc_accuracy_BER(random_model, X_test, y_test), 'Testing')"
   ]
  },
  {
   "cell_type": "markdown",
   "metadata": {},
   "source": [
    "**4. Implement a complete regularization pipeline with the balanced classifier. Consider values of C in the range {10^-4, 10^-3, . . . , 10^3, 10^4}. Report (or plot) the train, validation, and test BER for each value of C.**"
   ]
  },
  {
   "cell_type": "code",
   "execution_count": 630,
   "metadata": {},
   "outputs": [],
   "source": [
    "f = open(\"data/5year.arff\", 'r')"
   ]
  },
  {
   "cell_type": "code",
   "execution_count": 631,
   "metadata": {},
   "outputs": [],
   "source": [
    "while not '@data' in f.readline(): # filter past odd lines\n",
    "    pass"
   ]
  },
  {
   "cell_type": "code",
   "execution_count": 632,
   "metadata": {},
   "outputs": [],
   "source": [
    "# reload and reshuffle\n",
    "\n",
    "dataset = download_bank(f)\n",
    "random.shuffle(dataset)\n",
    "X = [values[:-1] for values in dataset]\n",
    "y = [values[-1] for values in dataset]\n",
    "\n",
    "# split the data\n",
    "N = len(X)\n",
    "fifty = int(np.around(N*.5))\n",
    "seventy_five = int(np.around(N*.75))\n",
    "\n",
    "X_train = X[:fifty]\n",
    "X_valid = X[fifty:seventy_five]\n",
    "X_test = X[seventy_five:]\n",
    "\n",
    "y_train = y[:fifty]\n",
    "y_valid = y[fifty:seventy_five]\n",
    "y_test = y[seventy_five:]"
   ]
  },
  {
   "cell_type": "code",
   "execution_count": 633,
   "metadata": {},
   "outputs": [
    {
     "data": {
      "text/plain": [
       "[0.0001, 0.001, 0.01, 0.1, 1, 10, 100, 1000, 10000]"
      ]
     },
     "execution_count": 633,
     "metadata": {},
     "output_type": "execute_result"
    }
   ],
   "source": [
    "# C values: {10^-4, 10^-3, . . . , 10^3, 10^4}\n",
    "\n",
    "c_model = [10**i for i in range(-4, 5)]\n",
    "c_model"
   ]
  },
  {
   "cell_type": "code",
   "execution_count": 634,
   "metadata": {},
   "outputs": [
    {
     "name": "stderr",
     "output_type": "stream",
     "text": [
      "c:\\users\\steph\\appdata\\local\\programs\\python\\python37\\lib\\site-packages\\sklearn\\linear_model\\ridge.py:147: LinAlgWarning: Ill-conditioned matrix (rcond=2.96012e-17): result may not be accurate.\n",
      "  overwrite_a=True).T\n"
     ]
    }
   ],
   "source": [
    "train_BER = []\n",
    "valid_BER = []\n",
    "test_BER = []\n",
    "\n",
    "# to find BER, I need to compare the actual labels with the predicted labels \n",
    "from sklearn.linear_model import RidgeClassifier\n",
    "\n",
    "for mod in c_model:        \n",
    "    reg_model = RidgeClassifier(mod, class_weight='balanced', fit_intercept=False)\n",
    "    reg_model.fit(X_train, y_train)\n",
    "    \n",
    "    tr = calc_accuracy_BER(reg_model, X_train, y_train, 'Training')\n",
    "    val = calc_accuracy_BER(reg_model, X_valid, y_valid, 'Validation')\n",
    "    te = calc_accuracy_BER(reg_model, X_test, y_test, 'Testing')\n",
    "    \n",
    "    train_BER.append(tr[1])    \n",
    "    valid_BER.append(val[1]) \n",
    "    test_BER.append(te[1])"
   ]
  },
  {
   "cell_type": "code",
   "execution_count": 635,
   "metadata": {},
   "outputs": [
    {
     "data": {
      "text/html": [
       "<div>\n",
       "<style scoped>\n",
       "    .dataframe tbody tr th:only-of-type {\n",
       "        vertical-align: middle;\n",
       "    }\n",
       "\n",
       "    .dataframe tbody tr th {\n",
       "        vertical-align: top;\n",
       "    }\n",
       "\n",
       "    .dataframe thead th {\n",
       "        text-align: right;\n",
       "    }\n",
       "</style>\n",
       "<table border=\"1\" class=\"dataframe\">\n",
       "  <thead>\n",
       "    <tr style=\"text-align: right;\">\n",
       "      <th></th>\n",
       "      <th>Training BER</th>\n",
       "      <th>Validation BER</th>\n",
       "      <th>Testing BER</th>\n",
       "    </tr>\n",
       "    <tr>\n",
       "      <th>C Values</th>\n",
       "      <th></th>\n",
       "      <th></th>\n",
       "      <th></th>\n",
       "    </tr>\n",
       "  </thead>\n",
       "  <tbody>\n",
       "    <tr>\n",
       "      <th>0.0001</th>\n",
       "      <td>0.112660</td>\n",
       "      <td>0.216098</td>\n",
       "      <td>0.199506</td>\n",
       "    </tr>\n",
       "    <tr>\n",
       "      <th>0.0010</th>\n",
       "      <td>0.112999</td>\n",
       "      <td>0.215409</td>\n",
       "      <td>0.200189</td>\n",
       "    </tr>\n",
       "    <tr>\n",
       "      <th>0.0100</th>\n",
       "      <td>0.112999</td>\n",
       "      <td>0.199280</td>\n",
       "      <td>0.198823</td>\n",
       "    </tr>\n",
       "    <tr>\n",
       "      <th>0.1000</th>\n",
       "      <td>0.113679</td>\n",
       "      <td>0.179708</td>\n",
       "      <td>0.198823</td>\n",
       "    </tr>\n",
       "    <tr>\n",
       "      <th>1.0000</th>\n",
       "      <td>0.115039</td>\n",
       "      <td>0.195837</td>\n",
       "      <td>0.175494</td>\n",
       "    </tr>\n",
       "    <tr>\n",
       "      <th>10.0000</th>\n",
       "      <td>0.143719</td>\n",
       "      <td>0.185906</td>\n",
       "      <td>0.165143</td>\n",
       "    </tr>\n",
       "    <tr>\n",
       "      <th>100.0000</th>\n",
       "      <td>0.174545</td>\n",
       "      <td>0.225451</td>\n",
       "      <td>0.229561</td>\n",
       "    </tr>\n",
       "    <tr>\n",
       "      <th>1000.0000</th>\n",
       "      <td>0.225659</td>\n",
       "      <td>0.229294</td>\n",
       "      <td>0.177911</td>\n",
       "    </tr>\n",
       "    <tr>\n",
       "      <th>10000.0000</th>\n",
       "      <td>0.258313</td>\n",
       "      <td>0.264307</td>\n",
       "      <td>0.199874</td>\n",
       "    </tr>\n",
       "  </tbody>\n",
       "</table>\n",
       "</div>"
      ],
      "text/plain": [
       "            Training BER  Validation BER  Testing BER\n",
       "C Values                                             \n",
       "0.0001          0.112660        0.216098     0.199506\n",
       "0.0010          0.112999        0.215409     0.200189\n",
       "0.0100          0.112999        0.199280     0.198823\n",
       "0.1000          0.113679        0.179708     0.198823\n",
       "1.0000          0.115039        0.195837     0.175494\n",
       "10.0000         0.143719        0.185906     0.165143\n",
       "100.0000        0.174545        0.225451     0.229561\n",
       "1000.0000       0.225659        0.229294     0.177911\n",
       "10000.0000      0.258313        0.264307     0.199874"
      ]
     },
     "execution_count": 635,
     "metadata": {},
     "output_type": "execute_result"
    }
   ],
   "source": [
    "df = pd.DataFrame({'Training BER': train_BER, 'Validation BER': valid_BER,'Testing BER': test_BER})\n",
    "df.index = c_model\n",
    "df = df.rename_axis('C Values')\n",
    "df"
   ]
  },
  {
   "cell_type": "markdown",
   "metadata": {},
   "source": [
    "**Based on these values, which classifier would you select (in terms of  generalization performance) and why (1 mark)?**"
   ]
  },
  {
   "cell_type": "markdown",
   "metadata": {},
   "source": [
    "To see which value of C we should use with our model on unseen data, we need to look at the performance of each C Value on the data in the validation set (performance here measured by BER (Balanced Error Rate)). "
   ]
  },
  {
   "cell_type": "code",
   "execution_count": 636,
   "metadata": {},
   "outputs": [
    {
     "data": {
      "text/plain": [
       "0.1"
      ]
     },
     "execution_count": 636,
     "metadata": {},
     "output_type": "execute_result"
    }
   ],
   "source": [
    "min_validation_BER = df['Validation BER'].idxmin()\n",
    "min_validation_BER"
   ]
  },
  {
   "cell_type": "markdown",
   "metadata": {},
   "source": [
    "We see that a C Value of 0.1 yields the lowest BER on the validation set. The plot also below helps show the starting point (C = 0.1) is the lowest BER. "
   ]
  },
  {
   "cell_type": "code",
   "execution_count": 638,
   "metadata": {},
   "outputs": [
    {
     "data": {
      "image/png": "[encoded data removed]",
      "text/plain": [
       "<Figure size 432x288 with 1 Axes>"
      ]
     },
     "metadata": {
      "needs_background": "light"
     },
     "output_type": "display_data"
    }
   ],
   "source": [
    "df.plot();"
   ]
  },
  {
   "cell_type": "markdown",
   "metadata": {},
   "source": [
    "Note: When I reshuffled the data a few times, the \"best\" C value alternated between the lower values of C (between C = .001 and C = 100). It is important to note that the way the data is shuffled can affect the answer for what the \"best\" value of C is. However, the larger values for C (i.e. 1000, 10000) didnt produce a low BER for any of the time I shuffled the data. This artifact of the data is reflected in the plot above (and was confirmed in the plots of other shuffled data results). The C values before the 2000 mark show some fluctuation in the BER score, but after that it is mostle constantly increasing. "
   ]
  },
  {
   "cell_type": "markdown",
   "metadata": {},
   "source": [
    "**5. (CSE158 only) Compute the Fβ scores for β = 1, β = 0.1, and β = 10 for the above classifier, using\n",
    "C = 1 (on the test set) (1 mark).**\n",
    "<table><tr><td><img src=\"imgs/F_b_score.png\"></td><td><img src=\"imgs/prec_recall.png\"></td></tr></table>"
   ]
  },
  {
   "cell_type": "code",
   "execution_count": 639,
   "metadata": {},
   "outputs": [],
   "source": [
    "f = open(\"data/5year.arff\", 'r')"
   ]
  },
  {
   "cell_type": "code",
   "execution_count": 640,
   "metadata": {},
   "outputs": [],
   "source": [
    "while not '@data' in f.readline(): # filter past odd lines\n",
    "    pass"
   ]
  },
  {
   "cell_type": "code",
   "execution_count": 641,
   "metadata": {},
   "outputs": [],
   "source": [
    "dataset = download_bank(f)\n",
    "\n",
    "import random\n",
    "random.shuffle(dataset)\n",
    "X = [values[:-1] for values in dataset]\n",
    "y = [values[-1] for values in dataset]\n",
    "\n",
    "# split the data\n",
    "N = len(X)\n",
    "fifty = int(np.around(N*.5))\n",
    "seventy_five = int(np.around(N*.75))\n",
    "\n",
    "X_train = X[:fifty]\n",
    "X_valid = X[fifty:seventy_five]\n",
    "X_test = X[seventy_five:]\n",
    "\n",
    "y_train = y[:fifty]\n",
    "y_valid = y[fifty:seventy_five]\n",
    "y_test = y[seventy_five:]"
   ]
  },
  {
   "cell_type": "code",
   "execution_count": 642,
   "metadata": {},
   "outputs": [
    {
     "name": "stderr",
     "output_type": "stream",
     "text": [
      "c:\\users\\steph\\appdata\\local\\programs\\python\\python37\\lib\\site-packages\\sklearn\\svm\\base.py:929: ConvergenceWarning: Liblinear failed to converge, increase the number of iterations.\n",
      "  \"the number of iterations.\", ConvergenceWarning)\n"
     ]
    }
   ],
   "source": [
    "model = linear_model.LogisticRegression(C=1.0, class_weight='balanced')\n",
    "model.fit(X_train, y_train)\n",
    "predictions = model.predict(X_test)"
   ]
  },
  {
   "cell_type": "code",
   "execution_count": 643,
   "metadata": {},
   "outputs": [],
   "source": [
    "# Args: (y_true, y_pred)\n",
    "from sklearn.metrics import precision_score\n",
    "from sklearn.metrics import recall_score "
   ]
  },
  {
   "cell_type": "code",
   "execution_count": 644,
   "metadata": {},
   "outputs": [],
   "source": [
    "def F_bscore(prec, rec, b):\n",
    "    return (1 + b**2) * ((prec * rec) / ((b**2 * prec) + rec))"
   ]
  },
  {
   "cell_type": "markdown",
   "metadata": {},
   "source": [
    "* Using the Testing Set, the Fβ score is calculated:"
   ]
  },
  {
   "cell_type": "code",
   "execution_count": 646,
   "metadata": {},
   "outputs": [
    {
     "data": {
      "text/html": [
       "<div>\n",
       "<style scoped>\n",
       "    .dataframe tbody tr th:only-of-type {\n",
       "        vertical-align: middle;\n",
       "    }\n",
       "\n",
       "    .dataframe tbody tr th {\n",
       "        vertical-align: top;\n",
       "    }\n",
       "\n",
       "    .dataframe thead th {\n",
       "        text-align: right;\n",
       "    }\n",
       "</style>\n",
       "<table border=\"1\" class=\"dataframe\">\n",
       "  <thead>\n",
       "    <tr style=\"text-align: right;\">\n",
       "      <th></th>\n",
       "      <th>β = 1</th>\n",
       "      <th>β = 0.01</th>\n",
       "      <th>β = 10</th>\n",
       "    </tr>\n",
       "  </thead>\n",
       "  <tbody>\n",
       "    <tr>\n",
       "      <th>Fβ Score</th>\n",
       "      <td>0.231156</td>\n",
       "      <td>0.134846</td>\n",
       "      <td>0.808844</td>\n",
       "    </tr>\n",
       "  </tbody>\n",
       "</table>\n",
       "</div>"
      ],
      "text/plain": [
       "             β = 1  β = 0.01    β = 10\n",
       "Fβ Score  0.231156  0.134846  0.808844"
      ]
     },
     "execution_count": 646,
     "metadata": {},
     "output_type": "execute_result"
    }
   ],
   "source": [
    "scores = []\n",
    "\n",
    "b_list = [1, 0.1, 10]\n",
    "for b in b_list:\n",
    "    precision = precision_score(y_test, predictions) \n",
    "    recall = recall_score(y_test, predictions)\n",
    "    scores.append(F_bscore(precision, recall, b))\n",
    "    \n",
    "df = pd.DataFrame({'β = 1': [scores[0]], 'β = 0.01': [scores[1]], 'β = 10': [scores[2]]})\n",
    "df.index = ['Fβ Score']\n",
    "df"
   ]
  },
  {
   "cell_type": "markdown",
   "metadata": {},
   "source": [
    "### Tasks — Dimensionality Reduction (week 3):\n",
    "Next we’ll consider using PCA to build a lower-dimensional feature vector to do prediction."
   ]
  },
  {
   "cell_type": "markdown",
   "metadata": {},
   "source": [
    "**7. Following the stub code, compute the PCA basis on the training set. Report the first PCA component\n",
    "(i.e., pca.components_[0]) (1 mark).**\n"
   ]
  },
  {
   "cell_type": "code",
   "execution_count": 561,
   "metadata": {},
   "outputs": [],
   "source": [
    "f = open(\"data/5year.arff\", 'r')"
   ]
  },
  {
   "cell_type": "code",
   "execution_count": 562,
   "metadata": {},
   "outputs": [],
   "source": [
    "while not '@data' in f.readline(): # filter past odd lines\n",
    "    pass"
   ]
  },
  {
   "cell_type": "code",
   "execution_count": 563,
   "metadata": {},
   "outputs": [],
   "source": [
    "dataset = download_bank(f)\n",
    "\n",
    "import random\n",
    "random.shuffle(dataset)\n",
    "X = [values[:-1] for values in dataset]\n",
    "y = [values[-1] for values in dataset]\n",
    "\n",
    "# split the data\n",
    "N = len(X)\n",
    "fifty = int(np.around(N*.5))\n",
    "seventy_five = int(np.around(N*.75))\n",
    "\n",
    "X_train = X[:fifty]\n",
    "X_valid = X[fifty:seventy_five]\n",
    "X_test = X[seventy_five:]\n",
    "\n",
    "y_train = y[:fifty]\n",
    "y_valid = y[fifty:seventy_five]\n",
    "y_test = y[seventy_five:]"
   ]
  },
  {
   "cell_type": "code",
   "execution_count": 564,
   "metadata": {},
   "outputs": [],
   "source": [
    "from sklearn.decomposition import PCA # PCA library"
   ]
  },
  {
   "cell_type": "code",
   "execution_count": 565,
   "metadata": {},
   "outputs": [
    {
     "data": {
      "text/plain": [
       "PCA(copy=True, iterated_power='auto', n_components=65, random_state=None,\n",
       "    svd_solver='auto', tol=0.0, whiten=False)"
      ]
     },
     "execution_count": 565,
     "metadata": {},
     "output_type": "execute_result"
    }
   ],
   "source": [
    "n = len(X_train[0]) # extract all features\n",
    "pca = PCA(n_components = n) \n",
    "pca.fit(X_train) # computes covarience matrix"
   ]
  },
  {
   "cell_type": "markdown",
   "metadata": {},
   "source": [
    "The first PCA component is shown below. This is the eivenvectors of the basis that describes all features of the training data (since we extracted all the features) in order of eigenvalue, increasing by importance."
   ]
  },
  {
   "cell_type": "code",
   "execution_count": 647,
   "metadata": {},
   "outputs": [
    {
     "data": {
      "text/plain": [
       "array([ 1.72366413e-18, -7.96886398e-08,  3.91014929e-07,  1.11279754e-06,\n",
       "        5.16667884e-06,  2.78916853e-03, -7.49568382e-07,  1.90082849e-06,\n",
       "        6.27019137e-06, -1.01100433e-06, -1.64752592e-07,  2.35569473e-07,\n",
       "        1.35245326e-06, -6.82370062e-06,  1.90036111e-06, -4.06995993e-04,\n",
       "        8.60036434e-07,  6.80892851e-06,  1.72858080e-06,  5.46735386e-07,\n",
       "        2.99039874e-05, -1.20289660e-07,  2.25196723e-07,  4.95199103e-07,\n",
       "        8.84159465e-07,  7.76555544e-07,  7.78796412e-07, -1.15899837e-04,\n",
       "        1.94249727e-06,  4.82950151e-06, -2.13729773e-06,  5.22896972e-07,\n",
       "       -5.09301352e-04,  5.19872173e-06, -2.84545331e-06,  1.97850712e-07,\n",
       "       -1.15035841e-06,  1.13187107e-03, -6.82727802e-07,  1.74804872e-07,\n",
       "        2.71420122e-06, -3.43963110e-06,  3.27610269e-07,  2.95458611e-05,\n",
       "       -3.62967208e-07, -1.43794759e-06,  4.12005757e-06, -9.63444238e-05,\n",
       "        2.90798241e-07,  5.12485806e-07,  4.68138138e-06, -8.69021852e-07,\n",
       "       -1.35724399e-06, -4.33884092e-06,  2.04207565e-06,  9.99995191e-01,\n",
       "        2.07380213e-07, -6.18703290e-07, -3.03031270e-07,  4.94394301e-07,\n",
       "       -1.77436616e-04, -1.44371281e-05, -2.75137808e-04,  6.64450308e-06,\n",
       "       -1.81247104e-05])"
      ]
     },
     "execution_count": 647,
     "metadata": {},
     "output_type": "execute_result"
    }
   ],
   "source": [
    "pca.components_[0]"
   ]
  },
  {
   "cell_type": "markdown",
   "metadata": {},
   "source": [
    "**8. Next we’ll train a model using a low-dimensional feature vector. By representing the data in the above\n",
    "basis, i.e.:**\n",
    "\n",
    "Xpca_train = numpy.matmul(Xtrain, pca.components_.T)\n",
    "\n",
    "Xpca_valid = numpy.matmul(Xvalid, pca.components_.T)\n",
    "\n",
    "Xpca_test = numpy.matmul(Xtest, pca.components_.T)\n",
    "\n",
    "**compute the validation and test BER of a model that uses just the first N components (i.e., dimensions) for N = 5, 10, . . . , 25, 30. Again use class weight=’balanced’ and C = 1.0 (2 marks).**"
   ]
  },
  {
   "cell_type": "code",
   "execution_count": 648,
   "metadata": {},
   "outputs": [],
   "source": [
    "# calculate transformed (rotated) dataset\n",
    "\n",
    "Xpca_train = numpy.matmul(X_train, pca.components_.T)\n",
    "Xpca_valid = numpy.matmul(X_valid, pca.components_.T)\n",
    "Xpca_test = numpy.matmul(X_test, pca.components_.T)"
   ]
  },
  {
   "cell_type": "code",
   "execution_count": 649,
   "metadata": {},
   "outputs": [
    {
     "name": "stderr",
     "output_type": "stream",
     "text": [
      "c:\\users\\steph\\appdata\\local\\programs\\python\\python37\\lib\\site-packages\\sklearn\\svm\\base.py:929: ConvergenceWarning: Liblinear failed to converge, increase the number of iterations.\n",
      "  \"the number of iterations.\", ConvergenceWarning)\n",
      "c:\\users\\steph\\appdata\\local\\programs\\python\\python37\\lib\\site-packages\\sklearn\\svm\\base.py:929: ConvergenceWarning: Liblinear failed to converge, increase the number of iterations.\n",
      "  \"the number of iterations.\", ConvergenceWarning)\n"
     ]
    }
   ],
   "source": [
    "dim = [i for i in range(5, 35, 5)]\n",
    "results = {'Validation BER': [], 'Testing BER': []}\n",
    "\n",
    "for d in dim:\n",
    "    # train a model on reduced data\n",
    "    mod = linear_model.LogisticRegression(C=1.0, class_weight='balanced')\n",
    "    reduced_train = [x[:d] for x in Xpca_train]\n",
    "    mod.fit(reduced_train, y_train)\n",
    "\n",
    "    reduced_val = [x[:d] for x in Xpca_valid]\n",
    "    reduced_test = [x[:d] for x in Xpca_test]\n",
    "    \n",
    "    val = mod.predict(reduced_val)\n",
    "    test = mod.predict(reduced_test)\n",
    "    \n",
    "    val_ = calc_BER(val, y_valid) # pred, true\n",
    "    test_ = calc_BER(test, y_test)\n",
    "    \n",
    "    results['Validation BER'] = results['Validation BER'] + [val_]\n",
    "    results['Testing BER'] = results['Testing BER'] + [test_]"
   ]
  },
  {
   "cell_type": "code",
   "execution_count": 650,
   "metadata": {},
   "outputs": [
    {
     "data": {
      "text/html": [
       "<div>\n",
       "<style scoped>\n",
       "    .dataframe tbody tr th:only-of-type {\n",
       "        vertical-align: middle;\n",
       "    }\n",
       "\n",
       "    .dataframe tbody tr th {\n",
       "        vertical-align: top;\n",
       "    }\n",
       "\n",
       "    .dataframe thead th {\n",
       "        text-align: right;\n",
       "    }\n",
       "</style>\n",
       "<table border=\"1\" class=\"dataframe\">\n",
       "  <thead>\n",
       "    <tr style=\"text-align: right;\">\n",
       "      <th></th>\n",
       "      <th>Validation BER</th>\n",
       "      <th>Testing BER</th>\n",
       "    </tr>\n",
       "    <tr>\n",
       "      <th>N Components</th>\n",
       "      <th></th>\n",
       "      <th></th>\n",
       "    </tr>\n",
       "  </thead>\n",
       "  <tbody>\n",
       "    <tr>\n",
       "      <th>5</th>\n",
       "      <td>0.377104</td>\n",
       "      <td>0.254699</td>\n",
       "    </tr>\n",
       "    <tr>\n",
       "      <th>10</th>\n",
       "      <td>0.336311</td>\n",
       "      <td>0.267214</td>\n",
       "    </tr>\n",
       "    <tr>\n",
       "      <th>15</th>\n",
       "      <td>0.376120</td>\n",
       "      <td>0.233546</td>\n",
       "    </tr>\n",
       "    <tr>\n",
       "      <th>20</th>\n",
       "      <td>0.344508</td>\n",
       "      <td>0.252115</td>\n",
       "    </tr>\n",
       "    <tr>\n",
       "      <th>25</th>\n",
       "      <td>0.296803</td>\n",
       "      <td>0.163627</td>\n",
       "    </tr>\n",
       "    <tr>\n",
       "      <th>30</th>\n",
       "      <td>0.280902</td>\n",
       "      <td>0.160891</td>\n",
       "    </tr>\n",
       "  </tbody>\n",
       "</table>\n",
       "</div>"
      ],
      "text/plain": [
       "              Validation BER  Testing BER\n",
       "N Components                             \n",
       "5                   0.377104     0.254699\n",
       "10                  0.336311     0.267214\n",
       "15                  0.376120     0.233546\n",
       "20                  0.344508     0.252115\n",
       "25                  0.296803     0.163627\n",
       "30                  0.280902     0.160891"
      ]
     },
     "execution_count": 650,
     "metadata": {},
     "output_type": "execute_result"
    }
   ],
   "source": [
    "df = pd.DataFrame(results)\n",
    "df.index = dim\n",
    "df = df.rename_axis('N Components')\n",
    "df"
   ]
  },
  {
   "cell_type": "markdown",
   "metadata": {},
   "source": [
    "The table above shows us that as we increase the number of components of the basis we use, the BER decreases (for validation and testing sets). This makes sense because PCA trys to compress the data into a fewer number of the \"useful\" dimensions. So the more \"useful\" dimensions you use for prediction, the more accurate your predictions will be. Obviously, using all dimension will be the most \"useful\" as far as BER scores go, but the point is to try and make the problem less complex. Choosing the model you for the problem you are solving depends on the right balance you want/ can afford (space and time complexity) between too many dimensions and too low of a accuracy score (whichever form you use)."
   ]
  },
  {
   "cell_type": "code",
   "execution_count": null,
   "metadata": {},
   "outputs": [],
   "source": []
  }
 ],
 "metadata": {
  "kernelspec": {
   "display_name": "Python 3",
   "language": "python",
   "name": "python3"
  },
  "language_info": {
   "codemirror_mode": {
    "name": "ipython",
    "version": 3
   },
   "file_extension": ".py",
   "mimetype": "text/x-python",
   "name": "python",
   "nbconvert_exporter": "python",
   "pygments_lexer": "ipython3",
   "version": "3.7.3"
  }
 },
 "nbformat": 4,
 "nbformat_minor": 2
}
